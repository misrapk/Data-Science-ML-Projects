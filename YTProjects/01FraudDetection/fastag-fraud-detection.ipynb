{
 "cells": [
  {
   "cell_type": "code",
   "execution_count": 13,
   "id": "8ae85477",
   "metadata": {
    "_cell_guid": "b1076dfc-b9ad-4769-8c92-a6c4dae69d19",
    "_uuid": "8f2839f25d086af736a60e9eeb907d3b93b6e0e5",
    "execution": {
     "iopub.execute_input": "2025-02-19T14:52:02.500630Z",
     "iopub.status.busy": "2025-02-19T14:52:02.500224Z",
     "iopub.status.idle": "2025-02-19T14:52:03.452902Z",
     "shell.execute_reply": "2025-02-19T14:52:03.451689Z"
    },
    "papermill": {
     "duration": 0.961159,
     "end_time": "2025-02-19T14:52:03.454833",
     "exception": false,
     "start_time": "2025-02-19T14:52:02.493674",
     "status": "completed"
    },
    "tags": []
   },
   "outputs": [],
   "source": [
    "\n",
    "import numpy as np # linear algebra\n",
    "import pandas as pd # data processing, CSV file I/O (e.g. pd.read_csv)\n",
    "\n"
   ]
  },
  {
   "cell_type": "markdown",
   "id": "c9d490fe",
   "metadata": {
    "papermill": {
     "duration": 0.004542,
     "end_time": "2025-02-19T14:52:03.464664",
     "exception": false,
     "start_time": "2025-02-19T14:52:03.460122",
     "status": "completed"
    },
    "tags": []
   },
   "source": [
    "# 1. EDA"
   ]
  },
  {
   "cell_type": "code",
   "execution_count": 14,
   "id": "130c9085",
   "metadata": {
    "execution": {
     "iopub.execute_input": "2025-02-19T14:52:03.475330Z",
     "iopub.status.busy": "2025-02-19T14:52:03.474800Z",
     "iopub.status.idle": "2025-02-19T14:52:03.538889Z",
     "shell.execute_reply": "2025-02-19T14:52:03.537744Z"
    },
    "papermill": {
     "duration": 0.071343,
     "end_time": "2025-02-19T14:52:03.540688",
     "exception": false,
     "start_time": "2025-02-19T14:52:03.469345",
     "status": "completed"
    },
    "tags": []
   },
   "outputs": [
    {
     "data": {
      "text/html": [
       "<div>\n",
       "<style scoped>\n",
       "    .dataframe tbody tr th:only-of-type {\n",
       "        vertical-align: middle;\n",
       "    }\n",
       "\n",
       "    .dataframe tbody tr th {\n",
       "        vertical-align: top;\n",
       "    }\n",
       "\n",
       "    .dataframe thead th {\n",
       "        text-align: right;\n",
       "    }\n",
       "</style>\n",
       "<table border=\"1\" class=\"dataframe\">\n",
       "  <thead>\n",
       "    <tr style=\"text-align: right;\">\n",
       "      <th></th>\n",
       "      <th>Transaction_ID</th>\n",
       "      <th>Timestamp</th>\n",
       "      <th>Vehicle_Type</th>\n",
       "      <th>FastagID</th>\n",
       "      <th>TollBoothID</th>\n",
       "      <th>Lane_Type</th>\n",
       "      <th>Vehicle_Dimensions</th>\n",
       "      <th>Transaction_Amount</th>\n",
       "      <th>Amount_paid</th>\n",
       "      <th>Geographical_Location</th>\n",
       "      <th>Vehicle_Speed</th>\n",
       "      <th>Vehicle_Plate_Number</th>\n",
       "      <th>Fraud_indicator</th>\n",
       "    </tr>\n",
       "  </thead>\n",
       "  <tbody>\n",
       "    <tr>\n",
       "      <th>0</th>\n",
       "      <td>1</td>\n",
       "      <td>1/6/2023 11:20</td>\n",
       "      <td>Bus</td>\n",
       "      <td>FTG-001-ABC-121</td>\n",
       "      <td>A-101</td>\n",
       "      <td>Express</td>\n",
       "      <td>Large</td>\n",
       "      <td>350</td>\n",
       "      <td>120</td>\n",
       "      <td>13.059816123454882, 77.77068662374292</td>\n",
       "      <td>65</td>\n",
       "      <td>KA11AB1234</td>\n",
       "      <td>Fraud</td>\n",
       "    </tr>\n",
       "    <tr>\n",
       "      <th>1</th>\n",
       "      <td>2</td>\n",
       "      <td>1/7/2023 14:55</td>\n",
       "      <td>Car</td>\n",
       "      <td>FTG-002-XYZ-451</td>\n",
       "      <td>B-102</td>\n",
       "      <td>Regular</td>\n",
       "      <td>Small</td>\n",
       "      <td>120</td>\n",
       "      <td>100</td>\n",
       "      <td>13.059816123454882, 77.77068662374292</td>\n",
       "      <td>78</td>\n",
       "      <td>KA66CD5678</td>\n",
       "      <td>Fraud</td>\n",
       "    </tr>\n",
       "    <tr>\n",
       "      <th>2</th>\n",
       "      <td>3</td>\n",
       "      <td>1/8/2023 18:25</td>\n",
       "      <td>Motorcycle</td>\n",
       "      <td>NaN</td>\n",
       "      <td>D-104</td>\n",
       "      <td>Regular</td>\n",
       "      <td>Small</td>\n",
       "      <td>0</td>\n",
       "      <td>0</td>\n",
       "      <td>13.059816123454882, 77.77068662374292</td>\n",
       "      <td>53</td>\n",
       "      <td>KA88EF9012</td>\n",
       "      <td>Not Fraud</td>\n",
       "    </tr>\n",
       "    <tr>\n",
       "      <th>3</th>\n",
       "      <td>4</td>\n",
       "      <td>1/9/2023 2:05</td>\n",
       "      <td>Truck</td>\n",
       "      <td>FTG-044-LMN-322</td>\n",
       "      <td>C-103</td>\n",
       "      <td>Regular</td>\n",
       "      <td>Large</td>\n",
       "      <td>350</td>\n",
       "      <td>120</td>\n",
       "      <td>13.059816123454882, 77.77068662374292</td>\n",
       "      <td>92</td>\n",
       "      <td>KA11GH3456</td>\n",
       "      <td>Fraud</td>\n",
       "    </tr>\n",
       "    <tr>\n",
       "      <th>4</th>\n",
       "      <td>5</td>\n",
       "      <td>1/10/2023 6:35</td>\n",
       "      <td>Van</td>\n",
       "      <td>FTG-505-DEF-652</td>\n",
       "      <td>B-102</td>\n",
       "      <td>Express</td>\n",
       "      <td>Medium</td>\n",
       "      <td>140</td>\n",
       "      <td>100</td>\n",
       "      <td>13.059816123454882, 77.77068662374292</td>\n",
       "      <td>60</td>\n",
       "      <td>KA44IJ6789</td>\n",
       "      <td>Fraud</td>\n",
       "    </tr>\n",
       "  </tbody>\n",
       "</table>\n",
       "</div>"
      ],
      "text/plain": [
       "   Transaction_ID       Timestamp Vehicle_Type         FastagID TollBoothID  \\\n",
       "0               1  1/6/2023 11:20         Bus   FTG-001-ABC-121       A-101   \n",
       "1               2  1/7/2023 14:55          Car  FTG-002-XYZ-451       B-102   \n",
       "2               3  1/8/2023 18:25   Motorcycle              NaN       D-104   \n",
       "3               4   1/9/2023 2:05        Truck  FTG-044-LMN-322       C-103   \n",
       "4               5  1/10/2023 6:35          Van  FTG-505-DEF-652       B-102   \n",
       "\n",
       "  Lane_Type Vehicle_Dimensions  Transaction_Amount  Amount_paid  \\\n",
       "0   Express              Large                 350          120   \n",
       "1   Regular              Small                 120          100   \n",
       "2   Regular              Small                   0            0   \n",
       "3   Regular              Large                 350          120   \n",
       "4   Express             Medium                 140          100   \n",
       "\n",
       "                   Geographical_Location  Vehicle_Speed Vehicle_Plate_Number  \\\n",
       "0  13.059816123454882, 77.77068662374292             65           KA11AB1234   \n",
       "1  13.059816123454882, 77.77068662374292             78           KA66CD5678   \n",
       "2  13.059816123454882, 77.77068662374292             53           KA88EF9012   \n",
       "3  13.059816123454882, 77.77068662374292             92           KA11GH3456   \n",
       "4  13.059816123454882, 77.77068662374292             60           KA44IJ6789   \n",
       "\n",
       "  Fraud_indicator  \n",
       "0           Fraud  \n",
       "1           Fraud  \n",
       "2       Not Fraud  \n",
       "3           Fraud  \n",
       "4           Fraud  "
      ]
     },
     "execution_count": 14,
     "metadata": {},
     "output_type": "execute_result"
    }
   ],
   "source": [
    "df = pd.read_csv('data/FastagFraudDetection.csv')\n",
    "df.head()"
   ]
  },
  {
   "cell_type": "code",
   "execution_count": 15,
   "id": "f46d63b6",
   "metadata": {
    "execution": {
     "iopub.execute_input": "2025-02-19T14:52:03.552105Z",
     "iopub.status.busy": "2025-02-19T14:52:03.551740Z",
     "iopub.status.idle": "2025-02-19T14:52:03.557138Z",
     "shell.execute_reply": "2025-02-19T14:52:03.556184Z"
    },
    "papermill": {
     "duration": 0.012778,
     "end_time": "2025-02-19T14:52:03.558686",
     "exception": false,
     "start_time": "2025-02-19T14:52:03.545908",
     "status": "completed"
    },
    "tags": []
   },
   "outputs": [
    {
     "data": {
      "text/plain": [
       "(5000, 13)"
      ]
     },
     "execution_count": 15,
     "metadata": {},
     "output_type": "execute_result"
    }
   ],
   "source": [
    "#shape of data\n",
    "df.shape"
   ]
  },
  {
   "cell_type": "code",
   "execution_count": 16,
   "id": "11701b0b",
   "metadata": {
    "execution": {
     "iopub.execute_input": "2025-02-19T14:52:03.570286Z",
     "iopub.status.busy": "2025-02-19T14:52:03.569911Z",
     "iopub.status.idle": "2025-02-19T14:52:03.598325Z",
     "shell.execute_reply": "2025-02-19T14:52:03.597125Z"
    },
    "papermill": {
     "duration": 0.03609,
     "end_time": "2025-02-19T14:52:03.600001",
     "exception": false,
     "start_time": "2025-02-19T14:52:03.563911",
     "status": "completed"
    },
    "tags": []
   },
   "outputs": [
    {
     "name": "stdout",
     "output_type": "stream",
     "text": [
      "<class 'pandas.core.frame.DataFrame'>\n",
      "RangeIndex: 5000 entries, 0 to 4999\n",
      "Data columns (total 13 columns):\n",
      " #   Column                 Non-Null Count  Dtype \n",
      "---  ------                 --------------  ----- \n",
      " 0   Transaction_ID         5000 non-null   int64 \n",
      " 1   Timestamp              5000 non-null   object\n",
      " 2   Vehicle_Type           5000 non-null   object\n",
      " 3   FastagID               4451 non-null   object\n",
      " 4   TollBoothID            5000 non-null   object\n",
      " 5   Lane_Type              5000 non-null   object\n",
      " 6   Vehicle_Dimensions     5000 non-null   object\n",
      " 7   Transaction_Amount     5000 non-null   int64 \n",
      " 8   Amount_paid            5000 non-null   int64 \n",
      " 9   Geographical_Location  5000 non-null   object\n",
      " 10  Vehicle_Speed          5000 non-null   int64 \n",
      " 11  Vehicle_Plate_Number   5000 non-null   object\n",
      " 12  Fraud_indicator        5000 non-null   object\n",
      "dtypes: int64(4), object(9)\n",
      "memory usage: 507.9+ KB\n"
     ]
    }
   ],
   "source": [
    "#information\n",
    "df.info() \n"
   ]
  },
  {
   "cell_type": "code",
   "execution_count": 17,
   "id": "3288521f",
   "metadata": {
    "execution": {
     "iopub.execute_input": "2025-02-19T14:52:03.611835Z",
     "iopub.status.busy": "2025-02-19T14:52:03.611487Z",
     "iopub.status.idle": "2025-02-19T14:52:03.622262Z",
     "shell.execute_reply": "2025-02-19T14:52:03.621392Z"
    },
    "papermill": {
     "duration": 0.018482,
     "end_time": "2025-02-19T14:52:03.623867",
     "exception": false,
     "start_time": "2025-02-19T14:52:03.605385",
     "status": "completed"
    },
    "tags": []
   },
   "outputs": [
    {
     "data": {
      "text/plain": [
       "Transaction_ID             0\n",
       "Timestamp                  0\n",
       "Vehicle_Type               0\n",
       "FastagID                 549\n",
       "TollBoothID                0\n",
       "Lane_Type                  0\n",
       "Vehicle_Dimensions         0\n",
       "Transaction_Amount         0\n",
       "Amount_paid                0\n",
       "Geographical_Location      0\n",
       "Vehicle_Speed              0\n",
       "Vehicle_Plate_Number       0\n",
       "Fraud_indicator            0\n",
       "dtype: int64"
      ]
     },
     "execution_count": 17,
     "metadata": {},
     "output_type": "execute_result"
    }
   ],
   "source": [
    "# check the null values\n",
    "df.isnull().sum()"
   ]
  },
  {
   "cell_type": "code",
   "execution_count": 18,
   "id": "cf31867a",
   "metadata": {
    "execution": {
     "iopub.execute_input": "2025-02-19T14:52:03.635626Z",
     "iopub.status.busy": "2025-02-19T14:52:03.635303Z",
     "iopub.status.idle": "2025-02-19T14:52:03.646336Z",
     "shell.execute_reply": "2025-02-19T14:52:03.645369Z"
    },
    "papermill": {
     "duration": 0.01863,
     "end_time": "2025-02-19T14:52:03.647939",
     "exception": false,
     "start_time": "2025-02-19T14:52:03.629309",
     "status": "completed"
    },
    "tags": []
   },
   "outputs": [
    {
     "data": {
      "text/plain": [
       "np.int64(0)"
      ]
     },
     "execution_count": 18,
     "metadata": {},
     "output_type": "execute_result"
    }
   ],
   "source": [
    "df.duplicated().sum()"
   ]
  },
  {
   "cell_type": "code",
   "execution_count": 19,
   "id": "20cba2da",
   "metadata": {
    "execution": {
     "iopub.execute_input": "2025-02-19T14:52:03.660173Z",
     "iopub.status.busy": "2025-02-19T14:52:03.659770Z",
     "iopub.status.idle": "2025-02-19T14:52:03.682264Z",
     "shell.execute_reply": "2025-02-19T14:52:03.681260Z"
    },
    "papermill": {
     "duration": 0.030603,
     "end_time": "2025-02-19T14:52:03.684059",
     "exception": false,
     "start_time": "2025-02-19T14:52:03.653456",
     "status": "completed"
    },
    "tags": []
   },
   "outputs": [
    {
     "data": {
      "text/html": [
       "<div>\n",
       "<style scoped>\n",
       "    .dataframe tbody tr th:only-of-type {\n",
       "        vertical-align: middle;\n",
       "    }\n",
       "\n",
       "    .dataframe tbody tr th {\n",
       "        vertical-align: top;\n",
       "    }\n",
       "\n",
       "    .dataframe thead th {\n",
       "        text-align: right;\n",
       "    }\n",
       "</style>\n",
       "<table border=\"1\" class=\"dataframe\">\n",
       "  <thead>\n",
       "    <tr style=\"text-align: right;\">\n",
       "      <th></th>\n",
       "      <th>Transaction_ID</th>\n",
       "      <th>Transaction_Amount</th>\n",
       "      <th>Amount_paid</th>\n",
       "      <th>Vehicle_Speed</th>\n",
       "    </tr>\n",
       "  </thead>\n",
       "  <tbody>\n",
       "    <tr>\n",
       "      <th>count</th>\n",
       "      <td>5000.000000</td>\n",
       "      <td>5000.00000</td>\n",
       "      <td>5000.000000</td>\n",
       "      <td>5000.000000</td>\n",
       "    </tr>\n",
       "    <tr>\n",
       "      <th>mean</th>\n",
       "      <td>2500.500000</td>\n",
       "      <td>161.06200</td>\n",
       "      <td>141.261000</td>\n",
       "      <td>67.851200</td>\n",
       "    </tr>\n",
       "    <tr>\n",
       "      <th>std</th>\n",
       "      <td>1443.520003</td>\n",
       "      <td>112.44995</td>\n",
       "      <td>106.480996</td>\n",
       "      <td>16.597547</td>\n",
       "    </tr>\n",
       "    <tr>\n",
       "      <th>min</th>\n",
       "      <td>1.000000</td>\n",
       "      <td>0.00000</td>\n",
       "      <td>0.000000</td>\n",
       "      <td>10.000000</td>\n",
       "    </tr>\n",
       "    <tr>\n",
       "      <th>25%</th>\n",
       "      <td>1250.750000</td>\n",
       "      <td>100.00000</td>\n",
       "      <td>90.000000</td>\n",
       "      <td>54.000000</td>\n",
       "    </tr>\n",
       "    <tr>\n",
       "      <th>50%</th>\n",
       "      <td>2500.500000</td>\n",
       "      <td>130.00000</td>\n",
       "      <td>120.000000</td>\n",
       "      <td>67.000000</td>\n",
       "    </tr>\n",
       "    <tr>\n",
       "      <th>75%</th>\n",
       "      <td>3750.250000</td>\n",
       "      <td>290.00000</td>\n",
       "      <td>160.000000</td>\n",
       "      <td>82.000000</td>\n",
       "    </tr>\n",
       "    <tr>\n",
       "      <th>max</th>\n",
       "      <td>5000.000000</td>\n",
       "      <td>350.00000</td>\n",
       "      <td>350.000000</td>\n",
       "      <td>118.000000</td>\n",
       "    </tr>\n",
       "  </tbody>\n",
       "</table>\n",
       "</div>"
      ],
      "text/plain": [
       "       Transaction_ID  Transaction_Amount  Amount_paid  Vehicle_Speed\n",
       "count     5000.000000          5000.00000  5000.000000    5000.000000\n",
       "mean      2500.500000           161.06200   141.261000      67.851200\n",
       "std       1443.520003           112.44995   106.480996      16.597547\n",
       "min          1.000000             0.00000     0.000000      10.000000\n",
       "25%       1250.750000           100.00000    90.000000      54.000000\n",
       "50%       2500.500000           130.00000   120.000000      67.000000\n",
       "75%       3750.250000           290.00000   160.000000      82.000000\n",
       "max       5000.000000           350.00000   350.000000     118.000000"
      ]
     },
     "execution_count": 19,
     "metadata": {},
     "output_type": "execute_result"
    }
   ],
   "source": [
    "df.describe()  #for numerical features"
   ]
  },
  {
   "cell_type": "code",
   "execution_count": 20,
   "id": "2dffadfd",
   "metadata": {
    "execution": {
     "iopub.execute_input": "2025-02-19T14:52:03.696951Z",
     "iopub.status.busy": "2025-02-19T14:52:03.696560Z",
     "iopub.status.idle": "2025-02-19T14:52:03.729469Z",
     "shell.execute_reply": "2025-02-19T14:52:03.728077Z"
    },
    "papermill": {
     "duration": 0.041475,
     "end_time": "2025-02-19T14:52:03.731526",
     "exception": false,
     "start_time": "2025-02-19T14:52:03.690051",
     "status": "completed"
    },
    "tags": []
   },
   "outputs": [
    {
     "data": {
      "text/html": [
       "<div>\n",
       "<style scoped>\n",
       "    .dataframe tbody tr th:only-of-type {\n",
       "        vertical-align: middle;\n",
       "    }\n",
       "\n",
       "    .dataframe tbody tr th {\n",
       "        vertical-align: top;\n",
       "    }\n",
       "\n",
       "    .dataframe thead th {\n",
       "        text-align: right;\n",
       "    }\n",
       "</style>\n",
       "<table border=\"1\" class=\"dataframe\">\n",
       "  <thead>\n",
       "    <tr style=\"text-align: right;\">\n",
       "      <th></th>\n",
       "      <th>Timestamp</th>\n",
       "      <th>Vehicle_Type</th>\n",
       "      <th>FastagID</th>\n",
       "      <th>TollBoothID</th>\n",
       "      <th>Lane_Type</th>\n",
       "      <th>Vehicle_Dimensions</th>\n",
       "      <th>Geographical_Location</th>\n",
       "      <th>Vehicle_Plate_Number</th>\n",
       "      <th>Fraud_indicator</th>\n",
       "    </tr>\n",
       "  </thead>\n",
       "  <tbody>\n",
       "    <tr>\n",
       "      <th>count</th>\n",
       "      <td>5000</td>\n",
       "      <td>5000</td>\n",
       "      <td>4451</td>\n",
       "      <td>5000</td>\n",
       "      <td>5000</td>\n",
       "      <td>5000</td>\n",
       "      <td>5000</td>\n",
       "      <td>5000</td>\n",
       "      <td>5000</td>\n",
       "    </tr>\n",
       "    <tr>\n",
       "      <th>unique</th>\n",
       "      <td>4423</td>\n",
       "      <td>7</td>\n",
       "      <td>4451</td>\n",
       "      <td>6</td>\n",
       "      <td>2</td>\n",
       "      <td>3</td>\n",
       "      <td>5</td>\n",
       "      <td>5000</td>\n",
       "      <td>2</td>\n",
       "    </tr>\n",
       "    <tr>\n",
       "      <th>top</th>\n",
       "      <td>1/24/2023 2:55</td>\n",
       "      <td>Bus</td>\n",
       "      <td>FTG-459-WSX-543</td>\n",
       "      <td>B-102</td>\n",
       "      <td>Regular</td>\n",
       "      <td>Large</td>\n",
       "      <td>13.059816123454882, 77.77068662374292</td>\n",
       "      <td>KA37AB3456</td>\n",
       "      <td>Not Fraud</td>\n",
       "    </tr>\n",
       "    <tr>\n",
       "      <th>freq</th>\n",
       "      <td>5</td>\n",
       "      <td>716</td>\n",
       "      <td>1</td>\n",
       "      <td>1432</td>\n",
       "      <td>2858</td>\n",
       "      <td>2144</td>\n",
       "      <td>1000</td>\n",
       "      <td>1</td>\n",
       "      <td>4017</td>\n",
       "    </tr>\n",
       "  </tbody>\n",
       "</table>\n",
       "</div>"
      ],
      "text/plain": [
       "             Timestamp Vehicle_Type         FastagID TollBoothID Lane_Type  \\\n",
       "count             5000         5000             4451        5000      5000   \n",
       "unique            4423            7             4451           6         2   \n",
       "top     1/24/2023 2:55         Bus   FTG-459-WSX-543       B-102   Regular   \n",
       "freq                 5          716                1        1432      2858   \n",
       "\n",
       "       Vehicle_Dimensions                  Geographical_Location  \\\n",
       "count                5000                                   5000   \n",
       "unique                  3                                      5   \n",
       "top                 Large  13.059816123454882, 77.77068662374292   \n",
       "freq                 2144                                   1000   \n",
       "\n",
       "       Vehicle_Plate_Number Fraud_indicator  \n",
       "count                  5000            5000  \n",
       "unique                 5000               2  \n",
       "top              KA37AB3456       Not Fraud  \n",
       "freq                      1            4017  "
      ]
     },
     "execution_count": 20,
     "metadata": {},
     "output_type": "execute_result"
    }
   ],
   "source": [
    "#descirbe or get the statictistcal description for numerical+categoriecal features\n",
    "df.describe(include='object')"
   ]
  },
  {
   "cell_type": "markdown",
   "id": "491e71a5",
   "metadata": {
    "papermill": {
     "duration": 0.005493,
     "end_time": "2025-02-19T14:52:03.743143",
     "exception": false,
     "start_time": "2025-02-19T14:52:03.737650",
     "status": "completed"
    },
    "tags": []
   },
   "source": [
    "#### Observation 1\n",
    "1. Fastag ID has 549 Null values\n",
    "2. No Duplicate Entries\n",
    "3. Data types are almost correct"
   ]
  },
  {
   "cell_type": "code",
   "execution_count": 21,
   "id": "cf31637f",
   "metadata": {
    "execution": {
     "iopub.execute_input": "2025-02-19T14:52:03.755608Z",
     "iopub.status.busy": "2025-02-19T14:52:03.755255Z",
     "iopub.status.idle": "2025-02-19T14:52:03.761163Z",
     "shell.execute_reply": "2025-02-19T14:52:03.760154Z"
    },
    "papermill": {
     "duration": 0.01395,
     "end_time": "2025-02-19T14:52:03.762757",
     "exception": false,
     "start_time": "2025-02-19T14:52:03.748807",
     "status": "completed"
    },
    "tags": []
   },
   "outputs": [
    {
     "data": {
      "text/plain": [
       "Index(['Transaction_ID', 'Timestamp', 'Vehicle_Type', 'FastagID',\n",
       "       'TollBoothID', 'Lane_Type', 'Vehicle_Dimensions', 'Transaction_Amount',\n",
       "       'Amount_paid', 'Geographical_Location', 'Vehicle_Speed',\n",
       "       'Vehicle_Plate_Number', 'Fraud_indicator'],\n",
       "      dtype='object')"
      ]
     },
     "execution_count": 21,
     "metadata": {},
     "output_type": "execute_result"
    }
   ],
   "source": [
    "df.columns"
   ]
  },
  {
   "cell_type": "code",
   "execution_count": 22,
   "id": "1e4205fa",
   "metadata": {
    "execution": {
     "iopub.execute_input": "2025-02-19T14:52:03.776914Z",
     "iopub.status.busy": "2025-02-19T14:52:03.776556Z",
     "iopub.status.idle": "2025-02-19T14:52:03.787430Z",
     "shell.execute_reply": "2025-02-19T14:52:03.786343Z"
    },
    "papermill": {
     "duration": 0.020211,
     "end_time": "2025-02-19T14:52:03.789282",
     "exception": false,
     "start_time": "2025-02-19T14:52:03.769071",
     "status": "completed"
    },
    "tags": []
   },
   "outputs": [
    {
     "name": "stdout",
     "output_type": "stream",
     "text": [
      "Unique Vehicle Type:  ['Bus ' 'Car' 'Motorcycle' 'Truck' 'Van' 'Sedan' 'SUV']\n",
      "Unique TollBoothID :  ['A-101' 'B-102' 'D-104' 'C-103' 'D-105' 'D-106']\n",
      "Unique Lane Type :  ['Express' 'Regular']\n",
      "Unique Vehicle Dimesnions :  ['Large' 'Small' 'Medium']\n",
      "Unique Fraud Indicator :  ['Fraud' 'Not Fraud']\n",
      "Unique GeogrphicalLocation :  ['13.059816123454882, 77.77068662374292'\n",
      " '13.042660878688794, 77.47580097259879'\n",
      " '12.84197701525119, 77.67547528176169'\n",
      " '12.936687032945434, 77.53113977439017'\n",
      " '13.21331620748757, 77.55413526894684']\n"
     ]
    }
   ],
   "source": [
    "#unique values\n",
    "print(\"Unique Vehicle Type: \", df['Vehicle_Type'].unique())\n",
    "print(\"Unique TollBoothID : \", df['TollBoothID'].unique())\n",
    "print(\"Unique Lane Type : \", df['Lane_Type'].unique())\n",
    "print(\"Unique Vehicle Dimesnions : \", df['Vehicle_Dimensions'].unique())\n",
    "print(\"Unique Fraud Indicator : \", df['Fraud_indicator'].unique())\n",
    "print(\"Unique GeogrphicalLocation : \", df['Geographical_Location'].unique())"
   ]
  },
  {
   "cell_type": "markdown",
   "id": "eea13681",
   "metadata": {
    "papermill": {
     "duration": 0.005533,
     "end_time": "2025-02-19T14:52:03.800816",
     "exception": false,
     "start_time": "2025-02-19T14:52:03.795283",
     "status": "completed"
    },
    "tags": []
   },
   "source": [
    "# 2. Data Visualisation"
   ]
  },
  {
   "cell_type": "code",
   "execution_count": 23,
   "id": "9d2d452c",
   "metadata": {
    "execution": {
     "iopub.execute_input": "2025-02-19T14:52:03.813719Z",
     "iopub.status.busy": "2025-02-19T14:52:03.813371Z",
     "iopub.status.idle": "2025-02-19T14:52:05.623381Z",
     "shell.execute_reply": "2025-02-19T14:52:05.622110Z"
    },
    "papermill": {
     "duration": 1.81882,
     "end_time": "2025-02-19T14:52:05.625408",
     "exception": false,
     "start_time": "2025-02-19T14:52:03.806588",
     "status": "completed"
    },
    "tags": []
   },
   "outputs": [],
   "source": [
    "#import libraries\n",
    "import matplotlib.pyplot as plt\n",
    "import seaborn as sns"
   ]
  },
  {
   "cell_type": "code",
   "execution_count": 24,
   "id": "de1e831a",
   "metadata": {
    "execution": {
     "iopub.execute_input": "2025-02-19T14:52:05.638895Z",
     "iopub.status.busy": "2025-02-19T14:52:05.638423Z",
     "iopub.status.idle": "2025-02-19T14:52:05.899668Z",
     "shell.execute_reply": "2025-02-19T14:52:05.898570Z"
    },
    "papermill": {
     "duration": 0.269764,
     "end_time": "2025-02-19T14:52:05.901300",
     "exception": false,
     "start_time": "2025-02-19T14:52:05.631536",
     "status": "completed"
    },
    "tags": []
   },
   "outputs": [
    {
     "name": "stdout",
     "output_type": "stream",
     "text": [
      "Fraud_indicator\n",
      "Not Fraud    4017\n",
      "Fraud         983\n",
      "Name: count, dtype: int64\n"
     ]
    },
    {
     "data": {
      "image/png": "[encoded data removed]",
      "text/plain": [
       "<Figure size 640x480 with 1 Axes>"
      ]
     },
     "metadata": {},
     "output_type": "display_data"
    }
   ],
   "source": [
    "# percentage of fraud and not fraud\n",
    "print(df['Fraud_indicator'].value_counts())\n",
    "df['Fraud_indicator'].value_counts().plot(kind='pie',\n",
    "                                         autopct = '%1.1f%%',\n",
    "                                         colors = ['green', 'red'])\n",
    "plt.title(\"Perctange of Fraud Indicator\")\n",
    "plt.axis('equal')\n",
    "plt.show()"
   ]
  },
  {
   "cell_type": "markdown",
   "id": "d968fd6c",
   "metadata": {
    "papermill": {
     "duration": 0.006064,
     "end_time": "2025-02-19T14:52:05.914014",
     "exception": false,
     "start_time": "2025-02-19T14:52:05.907950",
     "status": "completed"
    },
    "tags": []
   },
   "source": [
    "### 2.1 Analyse diffent Columns\n",
    "\n",
    "Analysise based on Fruad indicator"
   ]
  },
  {
   "cell_type": "code",
   "execution_count": 25,
   "id": "c8ca3c47",
   "metadata": {
    "execution": {
     "iopub.execute_input": "2025-02-19T14:52:05.927970Z",
     "iopub.status.busy": "2025-02-19T14:52:05.927596Z",
     "iopub.status.idle": "2025-02-19T14:52:05.935208Z",
     "shell.execute_reply": "2025-02-19T14:52:05.934073Z"
    },
    "papermill": {
     "duration": 0.016462,
     "end_time": "2025-02-19T14:52:05.936831",
     "exception": false,
     "start_time": "2025-02-19T14:52:05.920369",
     "status": "completed"
    },
    "tags": []
   },
   "outputs": [
    {
     "data": {
      "text/plain": [
       "Vehicle_Type\n",
       "Bus           716\n",
       "Car           714\n",
       "Motorcycle    714\n",
       "Truck         714\n",
       "Van           714\n",
       "Sedan         714\n",
       "SUV           714\n",
       "Name: count, dtype: int64"
      ]
     },
     "execution_count": 25,
     "metadata": {},
     "output_type": "execute_result"
    }
   ],
   "source": [
    "df['Vehicle_Type'].value_counts()"
   ]
  },
  {
   "cell_type": "code",
   "execution_count": 26,
   "id": "8c305ee7",
   "metadata": {
    "execution": {
     "iopub.execute_input": "2025-02-19T14:52:05.951604Z",
     "iopub.status.busy": "2025-02-19T14:52:05.951230Z",
     "iopub.status.idle": "2025-02-19T14:52:06.239895Z",
     "shell.execute_reply": "2025-02-19T14:52:06.238834Z"
    },
    "papermill": {
     "duration": 0.297689,
     "end_time": "2025-02-19T14:52:06.241521",
     "exception": false,
     "start_time": "2025-02-19T14:52:05.943832",
     "status": "completed"
    },
    "tags": []
   },
   "outputs": [
    {
     "data": {
      "text/plain": [
       "Text(0.5, 1.0, 'Vehicle Type')"
      ]
     },
     "execution_count": 26,
     "metadata": {},
     "output_type": "execute_result"
    },
    {
     "data": {
      "image/png": "[encoded data removed]",
      "text/plain": [
       "<Figure size 640x480 with 1 Axes>"
      ]
     },
     "metadata": {},
     "output_type": "display_data"
    }
   ],
   "source": [
    "#Vheicle Typs\n",
    "sns.countplot(x='Vehicle_Type',\n",
    "              data = df,\n",
    "              hue='Fraud_indicator').set_title('Vehicle Type')"
   ]
  },
  {
   "cell_type": "code",
   "execution_count": 27,
   "id": "4dbf2c99",
   "metadata": {
    "execution": {
     "iopub.execute_input": "2025-02-19T14:52:06.257756Z",
     "iopub.status.busy": "2025-02-19T14:52:06.257339Z",
     "iopub.status.idle": "2025-02-19T14:52:06.510154Z",
     "shell.execute_reply": "2025-02-19T14:52:06.509006Z"
    },
    "papermill": {
     "duration": 0.263252,
     "end_time": "2025-02-19T14:52:06.512124",
     "exception": false,
     "start_time": "2025-02-19T14:52:06.248872",
     "status": "completed"
    },
    "tags": []
   },
   "outputs": [
    {
     "data": {
      "text/plain": [
       "Text(0.5, 1.0, 'Vehicle Dimensions')"
      ]
     },
     "execution_count": 27,
     "metadata": {},
     "output_type": "execute_result"
    },
    {
     "data": {
      "image/png": "[encoded data removed]",
      "text/plain": [
       "<Figure size 600x500 with 1 Axes>"
      ]
     },
     "metadata": {},
     "output_type": "display_data"
    }
   ],
   "source": [
    "#Vheicle Dimensin\n",
    "plt.figure(figsize=(6,5))\n",
    "sns.countplot(x='Vehicle_Dimensions',\n",
    "              data = df,\n",
    "              hue='Fraud_indicator').set_title('Vehicle Dimensions')"
   ]
  },
  {
   "cell_type": "code",
   "execution_count": 28,
   "id": "fac8d9a6",
   "metadata": {
    "execution": {
     "iopub.execute_input": "2025-02-19T14:52:06.530251Z",
     "iopub.status.busy": "2025-02-19T14:52:06.529864Z",
     "iopub.status.idle": "2025-02-19T14:52:06.797388Z",
     "shell.execute_reply": "2025-02-19T14:52:06.796235Z"
    },
    "papermill": {
     "duration": 0.278552,
     "end_time": "2025-02-19T14:52:06.799136",
     "exception": false,
     "start_time": "2025-02-19T14:52:06.520584",
     "status": "completed"
    },
    "tags": []
   },
   "outputs": [
    {
     "data": {
      "text/plain": [
       "Text(0.5, 1.0, 'Different Tollbooths')"
      ]
     },
     "execution_count": 28,
     "metadata": {},
     "output_type": "execute_result"
    },
    {
     "data": {
      "image/png": "[encoded data removed]",
      "text/plain": [
       "<Figure size 600x500 with 1 Axes>"
      ]
     },
     "metadata": {},
     "output_type": "display_data"
    }
   ],
   "source": [
    "#Different toll booths\n",
    "plt.figure(figsize=(6,5))\n",
    "sns.countplot(x='TollBoothID',\n",
    "              data = df,\n",
    "              hue='Fraud_indicator').set_title('Different Tollbooths')"
   ]
  },
  {
   "cell_type": "code",
   "execution_count": 29,
   "id": "32949209",
   "metadata": {
    "execution": {
     "iopub.execute_input": "2025-02-19T14:52:06.817801Z",
     "iopub.status.busy": "2025-02-19T14:52:06.817372Z",
     "iopub.status.idle": "2025-02-19T14:52:07.025451Z",
     "shell.execute_reply": "2025-02-19T14:52:07.024398Z"
    },
    "papermill": {
     "duration": 0.219436,
     "end_time": "2025-02-19T14:52:07.027218",
     "exception": false,
     "start_time": "2025-02-19T14:52:06.807782",
     "status": "completed"
    },
    "tags": []
   },
   "outputs": [
    {
     "data": {
      "text/plain": [
       "Text(0.5, 1.0, 'Different Lanes')"
      ]
     },
     "execution_count": 29,
     "metadata": {},
     "output_type": "execute_result"
    },
    {
     "data": {
      "image/png": "[encoded data removed]",
      "text/plain": [
       "<Figure size 600x500 with 1 Axes>"
      ]
     },
     "metadata": {},
     "output_type": "display_data"
    }
   ],
   "source": [
    "#Lane Type\n",
    "plt.figure(figsize=(6,5))\n",
    "sns.countplot(x='Lane_Type',\n",
    "              data = df,\n",
    "              hue='Fraud_indicator').set_title('Different Lanes')"
   ]
  },
  {
   "cell_type": "code",
   "execution_count": 30,
   "id": "322281b7",
   "metadata": {
    "execution": {
     "iopub.execute_input": "2025-02-19T14:52:07.048090Z",
     "iopub.status.busy": "2025-02-19T14:52:07.047683Z",
     "iopub.status.idle": "2025-02-19T14:52:08.127155Z",
     "shell.execute_reply": "2025-02-19T14:52:08.125975Z"
    },
    "papermill": {
     "duration": 1.090751,
     "end_time": "2025-02-19T14:52:08.128592",
     "exception": false,
     "start_time": "2025-02-19T14:52:07.037841",
     "status": "completed"
    },
    "tags": []
   },
   "outputs": [
    {
     "data": {
      "image/png": "[encoded data removed]",
      "text/plain": [
       "<Figure size 1200x1000 with 4 Axes>"
      ]
     },
     "metadata": {},
     "output_type": "display_data"
    },
    {
     "data": {
      "text/plain": [
       "<Figure size 600x500 with 0 Axes>"
      ]
     },
     "metadata": {},
     "output_type": "display_data"
    },
    {
     "data": {
      "text/plain": [
       "<Figure size 600x500 with 0 Axes>"
      ]
     },
     "metadata": {},
     "output_type": "display_data"
    },
    {
     "data": {
      "text/plain": [
       "<Figure size 600x500 with 0 Axes>"
      ]
     },
     "metadata": {},
     "output_type": "display_data"
    }
   ],
   "source": [
    "# comibing all graphs together \n",
    "\n",
    "fig, axes = plt.subplots(2,2, figsize=(12,10))\n",
    "#Vheicle Typs\n",
    "sns.countplot(x='Vehicle_Type',\n",
    "              data = df,\n",
    "              hue='Fraud_indicator',\n",
    "             ax = axes[0,0]).set_title('Vehicle Type')\n",
    "#Lane Type\n",
    "plt.figure(figsize=(6,5))\n",
    "sns.countplot(x='Lane_Type',\n",
    "              data = df,\n",
    "              hue='Fraud_indicator',\n",
    "             ax = axes[0,1]).set_title('Different Lanes')\n",
    "#Different toll booths\n",
    "plt.figure(figsize=(6,5))\n",
    "sns.countplot(x='TollBoothID',\n",
    "              data = df,\n",
    "              hue='Fraud_indicator',\n",
    "             ax = axes[1,0]).set_title('Different Tollbooths')\n",
    "#Vheicle Dimensin\n",
    "plt.figure(figsize=(6,5))\n",
    "sns.countplot(x='Vehicle_Dimensions',\n",
    "              data = df,\n",
    "              hue='Fraud_indicator',\n",
    "             ax = axes[1,1]).set_title('Vehicle Dimensions')\n",
    "\n",
    "\n",
    "plt.tight_layout()\n"
   ]
  },
  {
   "cell_type": "markdown",
   "id": "3b837a27",
   "metadata": {
    "papermill": {
     "duration": 0.010362,
     "end_time": "2025-02-19T14:52:08.150299",
     "exception": false,
     "start_time": "2025-02-19T14:52:08.139937",
     "status": "completed"
    },
    "tags": []
   },
   "source": [
    "#### Observation 2\n",
    "1. Motorcycles are clan - not involved in any fraud\n",
    "2. Tollbooths 104, 105 and 106 have no fraud detected. But 101,102,103 have mix data\n",
    "3. Express way has higher fraud percentage based on vehicles than regular ways\n",
    "4. very less small vehicles are involved in Faud\n"
   ]
  }
 ],
 "metadata": {
  "kaggle": {
   "accelerator": "none",
   "dataSources": [
    {
     "datasetId": 4314015,
     "sourceId": 7415794,
     "sourceType": "datasetVersion"
    }
   ],
   "dockerImageVersionId": 30886,
   "isGpuEnabled": false,
   "isInternetEnabled": true,
   "language": "python",
   "sourceType": "notebook"
  },
  "kernelspec": {
   "display_name": "myProjectEnv",
   "language": "python",
   "name": "python3"
  },
  "language_info": {
   "codemirror_mode": {
    "name": "ipython",
    "version": 3
   },
   "file_extension": ".py",
   "mimetype": "text/x-python",
   "name": "python",
   "nbconvert_exporter": "python",
   "pygments_lexer": "ipython3",
   "version": "3.13.1"
  },
  "papermill": {
   "default_parameters": {},
   "duration": 9.13515,
   "end_time": "2025-02-19T14:52:08.881991",
   "environment_variables": {},
   "exception": null,
   "input_path": "__notebook__.ipynb",
   "output_path": "__notebook__.ipynb",
   "parameters": {},
   "start_time": "2025-02-19T14:51:59.746841",
   "version": "2.6.0"
  }
 },
 "nbformat": 4,
 "nbformat_minor": 5
}
