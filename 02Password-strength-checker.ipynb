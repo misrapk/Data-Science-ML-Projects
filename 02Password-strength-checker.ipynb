{
 "cells": [
  {
   "cell_type": "code",
   "execution_count": 1,
   "id": "0ea8db8e",
   "metadata": {
    "_cell_guid": "b1076dfc-b9ad-4769-8c92-a6c4dae69d19",
    "_uuid": "8f2839f25d086af736a60e9eeb907d3b93b6e0e5",
    "execution": {
     "iopub.execute_input": "2024-04-02T12:22:09.095475Z",
     "iopub.status.busy": "2024-04-02T12:22:09.094910Z",
     "iopub.status.idle": "2024-04-02T12:22:10.301714Z",
     "shell.execute_reply": "2024-04-02T12:22:10.300164Z"
    },
    "papermill": {
     "duration": 1.224339,
     "end_time": "2024-04-02T12:22:10.304765",
     "exception": false,
     "start_time": "2024-04-02T12:22:09.080426",
     "status": "completed"
    },
    "tags": []
   },
   "outputs": [
    {
     "name": "stdout",
     "output_type": "stream",
     "text": [
      "/kaggle/input/passworddataset/password_data.sqlite\n"
     ]
    }
   ],
   "source": [
    "# This Python 3 environment comes with many helpful analytics libraries installed\n",
    "# It is defined by the kaggle/python Docker image: https://github.com/kaggle/docker-python\n",
    "# For example, here's several helpful packages to load\n",
    "\n",
    "import numpy as np # linear algebra\n",
    "import pandas as pd # data processing, CSV file I/O (e.g. pd.read_csv)\n",
    "\n",
    "# Input data files are available in the read-only \"../input/\" directory\n",
    "# For example, running this (by clicking run or pressing Shift+Enter) will list all files under the input directory\n",
    "\n",
    "import os\n",
    "for dirname, _, filenames in os.walk('/kaggle/input'):\n",
    "    for filename in filenames:\n",
    "        print(os.path.join(dirname, filename))\n",
    "\n",
    "# You can write up to 20GB to the current directory (/kaggle/working/) that gets preserved as output when you create a version using \"Save & Run All\" \n",
    "# You can also write temporary files to /kaggle/temp/, but they won't be saved outside of the current session"
   ]
  },
  {
   "cell_type": "code",
   "execution_count": 2,
   "id": "dc5b92f6",
   "metadata": {
    "execution": {
     "iopub.execute_input": "2024-04-02T12:22:10.331490Z",
     "iopub.status.busy": "2024-04-02T12:22:10.330905Z",
     "iopub.status.idle": "2024-04-02T12:22:10.336516Z",
     "shell.execute_reply": "2024-04-02T12:22:10.335095Z"
    },
    "papermill": {
     "duration": 0.022138,
     "end_time": "2024-04-02T12:22:10.339255",
     "exception": false,
     "start_time": "2024-04-02T12:22:10.317117",
     "status": "completed"
    },
    "tags": []
   },
   "outputs": [],
   "source": [
    "import sqlite3 "
   ]
  },
  {
   "cell_type": "code",
   "execution_count": 3,
   "id": "bc204727",
   "metadata": {
    "execution": {
     "iopub.execute_input": "2024-04-02T12:22:10.364296Z",
     "iopub.status.busy": "2024-04-02T12:22:10.363838Z",
     "iopub.status.idle": "2024-04-02T12:22:10.371725Z",
     "shell.execute_reply": "2024-04-02T12:22:10.370773Z"
    },
    "papermill": {
     "duration": 0.023744,
     "end_time": "2024-04-02T12:22:10.374317",
     "exception": false,
     "start_time": "2024-04-02T12:22:10.350573",
     "status": "completed"
    },
    "tags": []
   },
   "outputs": [],
   "source": [
    "#sqlite connection\n",
    "con = sqlite3.connect(r\"/kaggle/input/passworddataset/password_data.sqlite\")\n"
   ]
  },
  {
   "cell_type": "code",
   "execution_count": 4,
   "id": "6d7aa477",
   "metadata": {
    "execution": {
     "iopub.execute_input": "2024-04-02T12:22:10.399302Z",
     "iopub.status.busy": "2024-04-02T12:22:10.398823Z",
     "iopub.status.idle": "2024-04-02T12:22:10.754395Z",
     "shell.execute_reply": "2024-04-02T12:22:10.753268Z"
    },
    "papermill": {
     "duration": 0.371517,
     "end_time": "2024-04-02T12:22:10.757138",
     "exception": false,
     "start_time": "2024-04-02T12:22:10.385621",
     "status": "completed"
    },
    "tags": []
   },
   "outputs": [],
   "source": [
    "data = pd.read_sql_query(\"SELECT * from Users\",con)"
   ]
  },
  {
   "cell_type": "code",
   "execution_count": 5,
   "id": "ab898aeb",
   "metadata": {
    "execution": {
     "iopub.execute_input": "2024-04-02T12:22:10.782816Z",
     "iopub.status.busy": "2024-04-02T12:22:10.782243Z",
     "iopub.status.idle": "2024-04-02T12:22:10.790571Z",
     "shell.execute_reply": "2024-04-02T12:22:10.789385Z"
    },
    "papermill": {
     "duration": 0.02573,
     "end_time": "2024-04-02T12:22:10.794981",
     "exception": false,
     "start_time": "2024-04-02T12:22:10.769251",
     "status": "completed"
    },
    "tags": []
   },
   "outputs": [
    {
     "data": {
      "text/plain": [
       "(100000, 3)"
      ]
     },
     "execution_count": 5,
     "metadata": {},
     "output_type": "execute_result"
    }
   ],
   "source": [
    "data.shape"
   ]
  },
  {
   "cell_type": "code",
   "execution_count": 6,
   "id": "a882f07b",
   "metadata": {
    "execution": {
     "iopub.execute_input": "2024-04-02T12:22:10.822154Z",
     "iopub.status.busy": "2024-04-02T12:22:10.821157Z",
     "iopub.status.idle": "2024-04-02T12:22:10.838190Z",
     "shell.execute_reply": "2024-04-02T12:22:10.836942Z"
    },
    "papermill": {
     "duration": 0.033098,
     "end_time": "2024-04-02T12:22:10.840918",
     "exception": false,
     "start_time": "2024-04-02T12:22:10.807820",
     "status": "completed"
    },
    "tags": []
   },
   "outputs": [
    {
     "data": {
      "text/html": [
       "<div>\n",
       "<style scoped>\n",
       "    .dataframe tbody tr th:only-of-type {\n",
       "        vertical-align: middle;\n",
       "    }\n",
       "\n",
       "    .dataframe tbody tr th {\n",
       "        vertical-align: top;\n",
       "    }\n",
       "\n",
       "    .dataframe thead th {\n",
       "        text-align: right;\n",
       "    }\n",
       "</style>\n",
       "<table border=\"1\" class=\"dataframe\">\n",
       "  <thead>\n",
       "    <tr style=\"text-align: right;\">\n",
       "      <th></th>\n",
       "      <th>index</th>\n",
       "      <th>password</th>\n",
       "      <th>strength</th>\n",
       "    </tr>\n",
       "  </thead>\n",
       "  <tbody>\n",
       "    <tr>\n",
       "      <th>0</th>\n",
       "      <td>0</td>\n",
       "      <td>zxe870819</td>\n",
       "      <td>1</td>\n",
       "    </tr>\n",
       "    <tr>\n",
       "      <th>1</th>\n",
       "      <td>1</td>\n",
       "      <td>xw46454nr23l</td>\n",
       "      <td>1</td>\n",
       "    </tr>\n",
       "    <tr>\n",
       "      <th>2</th>\n",
       "      <td>2</td>\n",
       "      <td>soporte13</td>\n",
       "      <td>1</td>\n",
       "    </tr>\n",
       "    <tr>\n",
       "      <th>3</th>\n",
       "      <td>3</td>\n",
       "      <td>accounts6000webhost.com</td>\n",
       "      <td>2</td>\n",
       "    </tr>\n",
       "    <tr>\n",
       "      <th>4</th>\n",
       "      <td>4</td>\n",
       "      <td>c443balg</td>\n",
       "      <td>1</td>\n",
       "    </tr>\n",
       "  </tbody>\n",
       "</table>\n",
       "</div>"
      ],
      "text/plain": [
       "   index                 password  strength\n",
       "0      0                zxe870819         1\n",
       "1      1             xw46454nr23l         1\n",
       "2      2                soporte13         1\n",
       "3      3  accounts6000webhost.com         2\n",
       "4      4                 c443balg         1"
      ]
     },
     "execution_count": 6,
     "metadata": {},
     "output_type": "execute_result"
    }
   ],
   "source": [
    "data.head()"
   ]
  },
  {
   "cell_type": "code",
   "execution_count": 7,
   "id": "3e24c958",
   "metadata": {
    "execution": {
     "iopub.execute_input": "2024-04-02T12:22:10.866386Z",
     "iopub.status.busy": "2024-04-02T12:22:10.865820Z",
     "iopub.status.idle": "2024-04-02T12:22:10.872846Z",
     "shell.execute_reply": "2024-04-02T12:22:10.871777Z"
    },
    "papermill": {
     "duration": 0.022347,
     "end_time": "2024-04-02T12:22:10.875063",
     "exception": false,
     "start_time": "2024-04-02T12:22:10.852716",
     "status": "completed"
    },
    "tags": []
   },
   "outputs": [
    {
     "data": {
      "text/plain": [
       "Index(['index', 'password', 'strength'], dtype='object')"
      ]
     },
     "execution_count": 7,
     "metadata": {},
     "output_type": "execute_result"
    }
   ],
   "source": [
    "#check for columns andremove unnecessary columns\n",
    "data.columns"
   ]
  },
  {
   "cell_type": "code",
   "execution_count": 8,
   "id": "811e5b2d",
   "metadata": {
    "execution": {
     "iopub.execute_input": "2024-04-02T12:22:10.901934Z",
     "iopub.status.busy": "2024-04-02T12:22:10.901273Z",
     "iopub.status.idle": "2024-04-02T12:22:10.914838Z",
     "shell.execute_reply": "2024-04-02T12:22:10.913390Z"
    },
    "papermill": {
     "duration": 0.029977,
     "end_time": "2024-04-02T12:22:10.917629",
     "exception": false,
     "start_time": "2024-04-02T12:22:10.887652",
     "status": "completed"
    },
    "tags": []
   },
   "outputs": [],
   "source": [
    "#we can drop 'index'\n",
    "data.drop(['index'], axis=1, inplace = True)"
   ]
  },
  {
   "cell_type": "code",
   "execution_count": 9,
   "id": "474c9621",
   "metadata": {
    "execution": {
     "iopub.execute_input": "2024-04-02T12:22:10.944240Z",
     "iopub.status.busy": "2024-04-02T12:22:10.943759Z",
     "iopub.status.idle": "2024-04-02T12:22:10.954536Z",
     "shell.execute_reply": "2024-04-02T12:22:10.953328Z"
    },
    "papermill": {
     "duration": 0.027746,
     "end_time": "2024-04-02T12:22:10.957138",
     "exception": false,
     "start_time": "2024-04-02T12:22:10.929392",
     "status": "completed"
    },
    "tags": []
   },
   "outputs": [
    {
     "data": {
      "text/html": [
       "<div>\n",
       "<style scoped>\n",
       "    .dataframe tbody tr th:only-of-type {\n",
       "        vertical-align: middle;\n",
       "    }\n",
       "\n",
       "    .dataframe tbody tr th {\n",
       "        vertical-align: top;\n",
       "    }\n",
       "\n",
       "    .dataframe thead th {\n",
       "        text-align: right;\n",
       "    }\n",
       "</style>\n",
       "<table border=\"1\" class=\"dataframe\">\n",
       "  <thead>\n",
       "    <tr style=\"text-align: right;\">\n",
       "      <th></th>\n",
       "      <th>password</th>\n",
       "      <th>strength</th>\n",
       "    </tr>\n",
       "  </thead>\n",
       "  <tbody>\n",
       "    <tr>\n",
       "      <th>0</th>\n",
       "      <td>zxe870819</td>\n",
       "      <td>1</td>\n",
       "    </tr>\n",
       "    <tr>\n",
       "      <th>1</th>\n",
       "      <td>xw46454nr23l</td>\n",
       "      <td>1</td>\n",
       "    </tr>\n",
       "    <tr>\n",
       "      <th>2</th>\n",
       "      <td>soporte13</td>\n",
       "      <td>1</td>\n",
       "    </tr>\n",
       "    <tr>\n",
       "      <th>3</th>\n",
       "      <td>accounts6000webhost.com</td>\n",
       "      <td>2</td>\n",
       "    </tr>\n",
       "    <tr>\n",
       "      <th>4</th>\n",
       "      <td>c443balg</td>\n",
       "      <td>1</td>\n",
       "    </tr>\n",
       "  </tbody>\n",
       "</table>\n",
       "</div>"
      ],
      "text/plain": [
       "                  password  strength\n",
       "0                zxe870819         1\n",
       "1             xw46454nr23l         1\n",
       "2                soporte13         1\n",
       "3  accounts6000webhost.com         2\n",
       "4                 c443balg         1"
      ]
     },
     "execution_count": 9,
     "metadata": {},
     "output_type": "execute_result"
    }
   ],
   "source": [
    "data.head()"
   ]
  },
  {
   "cell_type": "code",
   "execution_count": 10,
   "id": "b816e07b",
   "metadata": {
    "execution": {
     "iopub.execute_input": "2024-04-02T12:22:10.983255Z",
     "iopub.status.busy": "2024-04-02T12:22:10.982560Z",
     "iopub.status.idle": "2024-04-02T12:22:11.033820Z",
     "shell.execute_reply": "2024-04-02T12:22:11.032619Z"
    },
    "papermill": {
     "duration": 0.067534,
     "end_time": "2024-04-02T12:22:11.036501",
     "exception": false,
     "start_time": "2024-04-02T12:22:10.968967",
     "status": "completed"
    },
    "tags": []
   },
   "outputs": [
    {
     "data": {
      "text/plain": [
       "0"
      ]
     },
     "execution_count": 10,
     "metadata": {},
     "output_type": "execute_result"
    }
   ],
   "source": [
    "#check for duplicates\n",
    "data.duplicated().sum()   #no duplicate"
   ]
  },
  {
   "cell_type": "code",
   "execution_count": 11,
   "id": "9d189c31",
   "metadata": {
    "execution": {
     "iopub.execute_input": "2024-04-02T12:22:11.063534Z",
     "iopub.status.busy": "2024-04-02T12:22:11.062992Z",
     "iopub.status.idle": "2024-04-02T12:22:11.084597Z",
     "shell.execute_reply": "2024-04-02T12:22:11.083341Z"
    },
    "papermill": {
     "duration": 0.037964,
     "end_time": "2024-04-02T12:22:11.087383",
     "exception": false,
     "start_time": "2024-04-02T12:22:11.049419",
     "status": "completed"
    },
    "tags": []
   },
   "outputs": [
    {
     "data": {
      "text/plain": [
       "0"
      ]
     },
     "execution_count": 11,
     "metadata": {},
     "output_type": "execute_result"
    }
   ],
   "source": [
    "#check for null\n",
    "data.isnull().any().sum()  #no null"
   ]
  },
  {
   "cell_type": "code",
   "execution_count": 12,
   "id": "b34750a8",
   "metadata": {
    "execution": {
     "iopub.execute_input": "2024-04-02T12:22:11.116856Z",
     "iopub.status.busy": "2024-04-02T12:22:11.116442Z",
     "iopub.status.idle": "2024-04-02T12:22:11.124678Z",
     "shell.execute_reply": "2024-04-02T12:22:11.123566Z"
    },
    "papermill": {
     "duration": 0.025625,
     "end_time": "2024-04-02T12:22:11.127479",
     "exception": false,
     "start_time": "2024-04-02T12:22:11.101854",
     "status": "completed"
    },
    "tags": []
   },
   "outputs": [
    {
     "data": {
      "text/plain": [
       "password    object\n",
       "strength     int64\n",
       "dtype: object"
      ]
     },
     "execution_count": 12,
     "metadata": {},
     "output_type": "execute_result"
    }
   ],
   "source": [
    "#datatype\n",
    "data.dtypes"
   ]
  },
  {
   "cell_type": "code",
   "execution_count": 13,
   "id": "ee8f27e1",
   "metadata": {
    "execution": {
     "iopub.execute_input": "2024-04-02T12:22:11.155666Z",
     "iopub.status.busy": "2024-04-02T12:22:11.155291Z",
     "iopub.status.idle": "2024-04-02T12:22:11.167449Z",
     "shell.execute_reply": "2024-04-02T12:22:11.166120Z"
    },
    "papermill": {
     "duration": 0.028969,
     "end_time": "2024-04-02T12:22:11.169759",
     "exception": false,
     "start_time": "2024-04-02T12:22:11.140790",
     "status": "completed"
    },
    "tags": []
   },
   "outputs": [
    {
     "data": {
      "text/plain": [
       "array([1, 2, 0])"
      ]
     },
     "execution_count": 13,
     "metadata": {},
     "output_type": "execute_result"
    }
   ],
   "source": [
    "data['strength'].unique()"
   ]
  },
  {
   "cell_type": "markdown",
   "id": "37772017",
   "metadata": {
    "papermill": {
     "duration": 0.012037,
     "end_time": "2024-04-02T12:22:11.195231",
     "exception": false,
     "start_time": "2024-04-02T12:22:11.183194",
     "status": "completed"
    },
    "tags": []
   },
   "source": [
    "# Semantic Analysis"
   ]
  },
  {
   "cell_type": "code",
   "execution_count": 14,
   "id": "90642848",
   "metadata": {
    "execution": {
     "iopub.execute_input": "2024-04-02T12:22:11.221892Z",
     "iopub.status.busy": "2024-04-02T12:22:11.221487Z",
     "iopub.status.idle": "2024-04-02T12:22:11.228944Z",
     "shell.execute_reply": "2024-04-02T12:22:11.227762Z"
    },
    "papermill": {
     "duration": 0.024009,
     "end_time": "2024-04-02T12:22:11.231615",
     "exception": false,
     "start_time": "2024-04-02T12:22:11.207606",
     "status": "completed"
    },
    "tags": []
   },
   "outputs": [
    {
     "data": {
      "text/plain": [
       "str"
      ]
     },
     "execution_count": 14,
     "metadata": {},
     "output_type": "execute_result"
    }
   ],
   "source": [
    "type(data['password'][0])"
   ]
  },
  {
   "cell_type": "code",
   "execution_count": 15,
   "id": "01e7212d",
   "metadata": {
    "execution": {
     "iopub.execute_input": "2024-04-02T12:22:11.258470Z",
     "iopub.status.busy": "2024-04-02T12:22:11.258044Z",
     "iopub.status.idle": "2024-04-02T12:22:11.297175Z",
     "shell.execute_reply": "2024-04-02T12:22:11.296012Z"
    },
    "papermill": {
     "duration": 0.055348,
     "end_time": "2024-04-02T12:22:11.299648",
     "exception": false,
     "start_time": "2024-04-02T12:22:11.244300",
     "status": "completed"
    },
    "tags": []
   },
   "outputs": [
    {
     "data": {
      "text/plain": [
       "(26, 2)"
      ]
     },
     "execution_count": 15,
     "metadata": {},
     "output_type": "execute_result"
    }
   ],
   "source": [
    "#Passwords holds only numeric charracters??\n",
    "data[data['password'].str.isnumeric()].shape"
   ]
  },
  {
   "cell_type": "code",
   "execution_count": 16,
   "id": "6c1af752",
   "metadata": {
    "execution": {
     "iopub.execute_input": "2024-04-02T12:22:11.327903Z",
     "iopub.status.busy": "2024-04-02T12:22:11.326737Z",
     "iopub.status.idle": "2024-04-02T12:22:11.366087Z",
     "shell.execute_reply": "2024-04-02T12:22:11.364827Z"
    },
    "papermill": {
     "duration": 0.056042,
     "end_time": "2024-04-02T12:22:11.368780",
     "exception": false,
     "start_time": "2024-04-02T12:22:11.312738",
     "status": "completed"
    },
    "tags": []
   },
   "outputs": [
    {
     "data": {
      "text/plain": [
       "(50, 2)"
      ]
     },
     "execution_count": 16,
     "metadata": {},
     "output_type": "execute_result"
    }
   ],
   "source": [
    "data[data['password'].str.isalpha()].shape #alpha characters password"
   ]
  },
  {
   "cell_type": "code",
   "execution_count": 17,
   "id": "1c6e9f16",
   "metadata": {
    "execution": {
     "iopub.execute_input": "2024-04-02T12:22:11.396481Z",
     "iopub.status.busy": "2024-04-02T12:22:11.396045Z",
     "iopub.status.idle": "2024-04-02T12:22:11.445245Z",
     "shell.execute_reply": "2024-04-02T12:22:11.443674Z"
    },
    "papermill": {
     "duration": 0.066518,
     "end_time": "2024-04-02T12:22:11.448211",
     "exception": false,
     "start_time": "2024-04-02T12:22:11.381693",
     "status": "completed"
    },
    "tags": []
   },
   "outputs": [
    {
     "data": {
      "text/plain": [
       "(97203, 2)"
      ]
     },
     "execution_count": 17,
     "metadata": {},
     "output_type": "execute_result"
    }
   ],
   "source": [
    "#password having alpha numeric charcters\n",
    "data[data['password'].str.isalnum()].shape "
   ]
  },
  {
   "cell_type": "code",
   "execution_count": 18,
   "id": "a42f9051",
   "metadata": {
    "execution": {
     "iopub.execute_input": "2024-04-02T12:22:11.477946Z",
     "iopub.status.busy": "2024-04-02T12:22:11.477532Z",
     "iopub.status.idle": "2024-04-02T12:22:11.513812Z",
     "shell.execute_reply": "2024-04-02T12:22:11.512673Z"
    },
    "papermill": {
     "duration": 0.054293,
     "end_time": "2024-04-02T12:22:11.516805",
     "exception": false,
     "start_time": "2024-04-02T12:22:11.462512",
     "status": "completed"
    },
    "tags": []
   },
   "outputs": [
    {
     "name": "stdout",
     "output_type": "stream",
     "text": [
      "(1506, 2)\n"
     ]
    }
   ],
   "source": [
    "#password having uppercase character??\n",
    "print(data[data['password'].str.isupper()].shape)"
   ]
  },
  {
   "cell_type": "code",
   "execution_count": 19,
   "id": "255075f4",
   "metadata": {
    "execution": {
     "iopub.execute_input": "2024-04-02T12:22:11.547196Z",
     "iopub.status.busy": "2024-04-02T12:22:11.545858Z",
     "iopub.status.idle": "2024-04-02T12:22:11.551904Z",
     "shell.execute_reply": "2024-04-02T12:22:11.550368Z"
    },
    "papermill": {
     "duration": 0.024288,
     "end_time": "2024-04-02T12:22:11.554865",
     "exception": false,
     "start_time": "2024-04-02T12:22:11.530577",
     "status": "completed"
    },
    "tags": []
   },
   "outputs": [],
   "source": [
    "#passwords having some speical chaparcter\n",
    "import string"
   ]
  },
  {
   "cell_type": "code",
   "execution_count": 20,
   "id": "3c6f926c",
   "metadata": {
    "execution": {
     "iopub.execute_input": "2024-04-02T12:22:11.583899Z",
     "iopub.status.busy": "2024-04-02T12:22:11.583475Z",
     "iopub.status.idle": "2024-04-02T12:22:11.590441Z",
     "shell.execute_reply": "2024-04-02T12:22:11.589234Z"
    },
    "papermill": {
     "duration": 0.024556,
     "end_time": "2024-04-02T12:22:11.592889",
     "exception": false,
     "start_time": "2024-04-02T12:22:11.568333",
     "status": "completed"
    },
    "tags": []
   },
   "outputs": [
    {
     "data": {
      "text/plain": [
       "'!\"#$%&\\'()*+,-./:;<=>?@[\\\\]^_`{|}~'"
      ]
     },
     "execution_count": 20,
     "metadata": {},
     "output_type": "execute_result"
    }
   ],
   "source": [
    "string.punctuation  #to get the special charcters"
   ]
  },
  {
   "cell_type": "code",
   "execution_count": 21,
   "id": "38e8b006",
   "metadata": {
    "execution": {
     "iopub.execute_input": "2024-04-02T12:22:11.623439Z",
     "iopub.status.busy": "2024-04-02T12:22:11.622418Z",
     "iopub.status.idle": "2024-04-02T12:22:11.630792Z",
     "shell.execute_reply": "2024-04-02T12:22:11.628498Z"
    },
    "papermill": {
     "duration": 0.027174,
     "end_time": "2024-04-02T12:22:11.634207",
     "exception": false,
     "start_time": "2024-04-02T12:22:11.607033",
     "status": "completed"
    },
    "tags": []
   },
   "outputs": [],
   "source": [
    "def findSpecialCharacter(row):\n",
    "    \"\"\"define a function\n",
    "    if any row has any of speical character\n",
    "    then reutrn 1 else 0\n",
    "    Input: Row \"\"\"\n",
    "    for char in row:\n",
    "        if char in string.punctuation:\n",
    "            return 1\n",
    "        else:\n",
    "            pass"
   ]
  },
  {
   "cell_type": "code",
   "execution_count": 22,
   "id": "df7fef66",
   "metadata": {
    "execution": {
     "iopub.execute_input": "2024-04-02T12:22:11.664116Z",
     "iopub.status.busy": "2024-04-02T12:22:11.663680Z",
     "iopub.status.idle": "2024-04-02T12:22:11.821283Z",
     "shell.execute_reply": "2024-04-02T12:22:11.820023Z"
    },
    "papermill": {
     "duration": 0.175362,
     "end_time": "2024-04-02T12:22:11.823700",
     "exception": false,
     "start_time": "2024-04-02T12:22:11.648338",
     "status": "completed"
    },
    "tags": []
   },
   "outputs": [
    {
     "data": {
      "text/plain": [
       "(2663, 2)"
      ]
     },
     "execution_count": 22,
     "metadata": {},
     "output_type": "execute_result"
    }
   ],
   "source": [
    "data[data['password'].apply(findSpecialCharacter)==1].shape"
   ]
  },
  {
   "cell_type": "markdown",
   "id": "f9da2af9",
   "metadata": {
    "papermill": {
     "duration": 0.013604,
     "end_time": "2024-04-02T12:22:11.851273",
     "exception": false,
     "start_time": "2024-04-02T12:22:11.837669",
     "status": "completed"
    },
    "tags": []
   },
   "source": [
    "Therefore the summary is: \n",
    "1. Only Numeric password: 26\n",
    "2. Only Alpha passowrd: 50\n",
    "3. Alpha Numeric: 97203\n",
    "4. Having only uppercase: 1506\n",
    "5. Having Special Characters: 2663"
   ]
  },
  {
   "cell_type": "markdown",
   "id": "6a72704b",
   "metadata": {
    "papermill": {
     "duration": 0.013169,
     "end_time": "2024-04-02T12:22:11.877902",
     "exception": false,
     "start_time": "2024-04-02T12:22:11.864733",
     "status": "completed"
    },
    "tags": []
   },
   "source": [
    "# Feature Engineeringn\n",
    "\n",
    "- find the frequency of lowercase, uppercase, digit, frequency in passwords"
   ]
  },
  {
   "cell_type": "code",
   "execution_count": 23,
   "id": "ff505f02",
   "metadata": {
    "execution": {
     "iopub.execute_input": "2024-04-02T12:22:11.908059Z",
     "iopub.status.busy": "2024-04-02T12:22:11.907626Z",
     "iopub.status.idle": "2024-04-02T12:22:11.914122Z",
     "shell.execute_reply": "2024-04-02T12:22:11.912759Z"
    },
    "papermill": {
     "duration": 0.024348,
     "end_time": "2024-04-02T12:22:11.916729",
     "exception": false,
     "start_time": "2024-04-02T12:22:11.892381",
     "status": "completed"
    },
    "tags": []
   },
   "outputs": [],
   "source": [
    "def freqLower(row):\n",
    "    return len([char for char in row if char.islower()])/len(row) #dividing with row to normalise it"
   ]
  },
  {
   "cell_type": "code",
   "execution_count": 24,
   "id": "5602ebeb",
   "metadata": {
    "execution": {
     "iopub.execute_input": "2024-04-02T12:22:11.949459Z",
     "iopub.status.busy": "2024-04-02T12:22:11.948620Z",
     "iopub.status.idle": "2024-04-02T12:22:11.957333Z",
     "shell.execute_reply": "2024-04-02T12:22:11.954996Z"
    },
    "papermill": {
     "duration": 0.02796,
     "end_time": "2024-04-02T12:22:11.960247",
     "exception": false,
     "start_time": "2024-04-02T12:22:11.932287",
     "status": "completed"
    },
    "tags": []
   },
   "outputs": [],
   "source": [
    "def freqUpper(row):\n",
    "    return len([char for char in row if char.isupper()])/len(row) #dividing with row to normalise it"
   ]
  },
  {
   "cell_type": "code",
   "execution_count": 25,
   "id": "096e41a0",
   "metadata": {
    "execution": {
     "iopub.execute_input": "2024-04-02T12:22:11.992545Z",
     "iopub.status.busy": "2024-04-02T12:22:11.992110Z",
     "iopub.status.idle": "2024-04-02T12:22:11.998410Z",
     "shell.execute_reply": "2024-04-02T12:22:11.997205Z"
    },
    "papermill": {
     "duration": 0.02647,
     "end_time": "2024-04-02T12:22:12.001415",
     "exception": false,
     "start_time": "2024-04-02T12:22:11.974945",
     "status": "completed"
    },
    "tags": []
   },
   "outputs": [],
   "source": [
    "def freqDigit(row):\n",
    "    return len([char for char in row if char.isdigit()])/len(row) #dividing with row to normalise it"
   ]
  },
  {
   "cell_type": "code",
   "execution_count": 26,
   "id": "774736e6",
   "metadata": {
    "execution": {
     "iopub.execute_input": "2024-04-02T12:22:12.032715Z",
     "iopub.status.busy": "2024-04-02T12:22:12.032341Z",
     "iopub.status.idle": "2024-04-02T12:22:12.275733Z",
     "shell.execute_reply": "2024-04-02T12:22:12.274769Z"
    },
    "papermill": {
     "duration": 0.261467,
     "end_time": "2024-04-02T12:22:12.278255",
     "exception": false,
     "start_time": "2024-04-02T12:22:12.016788",
     "status": "completed"
    },
    "tags": []
   },
   "outputs": [
    {
     "data": {
      "text/plain": [
       "0        0.333\n",
       "1        0.417\n",
       "2        0.778\n",
       "3        0.783\n",
       "4        0.625\n",
       "         ...  \n",
       "99995    0.700\n",
       "99996    0.800\n",
       "99997    0.778\n",
       "99998    0.667\n",
       "99999    0.727\n",
       "Name: password, Length: 100000, dtype: float64"
      ]
     },
     "execution_count": 26,
     "metadata": {},
     "output_type": "execute_result"
    }
   ],
   "source": [
    "np.round(data['password'].apply(freqLower), 3)"
   ]
  },
  {
   "cell_type": "code",
   "execution_count": 27,
   "id": "4af08b93",
   "metadata": {
    "execution": {
     "iopub.execute_input": "2024-04-02T12:22:12.308136Z",
     "iopub.status.busy": "2024-04-02T12:22:12.307050Z",
     "iopub.status.idle": "2024-04-02T12:22:12.952648Z",
     "shell.execute_reply": "2024-04-02T12:22:12.951325Z"
    },
    "papermill": {
     "duration": 0.663364,
     "end_time": "2024-04-02T12:22:12.955482",
     "exception": false,
     "start_time": "2024-04-02T12:22:12.292118",
     "status": "completed"
    },
    "tags": []
   },
   "outputs": [],
   "source": [
    "data['lowercaseFreq'] = np.round(data['password'].apply(freqLower), 3)\n",
    "data['uppercaseFreq'] = np.round(data['password'].apply(freqUpper), 3)\n",
    "data['digiFreq'] =np.round(data['password'].apply(freqDigit), 3)"
   ]
  },
  {
   "cell_type": "code",
   "execution_count": 28,
   "id": "fa9e5d29",
   "metadata": {
    "execution": {
     "iopub.execute_input": "2024-04-02T12:22:12.986031Z",
     "iopub.status.busy": "2024-04-02T12:22:12.985658Z",
     "iopub.status.idle": "2024-04-02T12:22:13.000953Z",
     "shell.execute_reply": "2024-04-02T12:22:12.999116Z"
    },
    "papermill": {
     "duration": 0.033578,
     "end_time": "2024-04-02T12:22:13.003834",
     "exception": false,
     "start_time": "2024-04-02T12:22:12.970256",
     "status": "completed"
    },
    "tags": []
   },
   "outputs": [
    {
     "data": {
      "text/html": [
       "<div>\n",
       "<style scoped>\n",
       "    .dataframe tbody tr th:only-of-type {\n",
       "        vertical-align: middle;\n",
       "    }\n",
       "\n",
       "    .dataframe tbody tr th {\n",
       "        vertical-align: top;\n",
       "    }\n",
       "\n",
       "    .dataframe thead th {\n",
       "        text-align: right;\n",
       "    }\n",
       "</style>\n",
       "<table border=\"1\" class=\"dataframe\">\n",
       "  <thead>\n",
       "    <tr style=\"text-align: right;\">\n",
       "      <th></th>\n",
       "      <th>password</th>\n",
       "      <th>strength</th>\n",
       "      <th>lowercaseFreq</th>\n",
       "      <th>uppercaseFreq</th>\n",
       "      <th>digiFreq</th>\n",
       "    </tr>\n",
       "  </thead>\n",
       "  <tbody>\n",
       "    <tr>\n",
       "      <th>0</th>\n",
       "      <td>zxe870819</td>\n",
       "      <td>1</td>\n",
       "      <td>0.333</td>\n",
       "      <td>0.0</td>\n",
       "      <td>0.667</td>\n",
       "    </tr>\n",
       "    <tr>\n",
       "      <th>1</th>\n",
       "      <td>xw46454nr23l</td>\n",
       "      <td>1</td>\n",
       "      <td>0.417</td>\n",
       "      <td>0.0</td>\n",
       "      <td>0.583</td>\n",
       "    </tr>\n",
       "    <tr>\n",
       "      <th>2</th>\n",
       "      <td>soporte13</td>\n",
       "      <td>1</td>\n",
       "      <td>0.778</td>\n",
       "      <td>0.0</td>\n",
       "      <td>0.222</td>\n",
       "    </tr>\n",
       "    <tr>\n",
       "      <th>3</th>\n",
       "      <td>accounts6000webhost.com</td>\n",
       "      <td>2</td>\n",
       "      <td>0.783</td>\n",
       "      <td>0.0</td>\n",
       "      <td>0.174</td>\n",
       "    </tr>\n",
       "    <tr>\n",
       "      <th>4</th>\n",
       "      <td>c443balg</td>\n",
       "      <td>1</td>\n",
       "      <td>0.625</td>\n",
       "      <td>0.0</td>\n",
       "      <td>0.375</td>\n",
       "    </tr>\n",
       "  </tbody>\n",
       "</table>\n",
       "</div>"
      ],
      "text/plain": [
       "                  password  strength  lowercaseFreq  uppercaseFreq  digiFreq\n",
       "0                zxe870819         1          0.333            0.0     0.667\n",
       "1             xw46454nr23l         1          0.417            0.0     0.583\n",
       "2                soporte13         1          0.778            0.0     0.222\n",
       "3  accounts6000webhost.com         2          0.783            0.0     0.174\n",
       "4                 c443balg         1          0.625            0.0     0.375"
      ]
     },
     "execution_count": 28,
     "metadata": {},
     "output_type": "execute_result"
    }
   ],
   "source": [
    "data.head()"
   ]
  },
  {
   "cell_type": "code",
   "execution_count": 29,
   "id": "49d01c00",
   "metadata": {
    "execution": {
     "iopub.execute_input": "2024-04-02T12:22:13.035634Z",
     "iopub.status.busy": "2024-04-02T12:22:13.035205Z",
     "iopub.status.idle": "2024-04-02T12:22:13.041837Z",
     "shell.execute_reply": "2024-04-02T12:22:13.040537Z"
    },
    "papermill": {
     "duration": 0.025791,
     "end_time": "2024-04-02T12:22:13.044618",
     "exception": false,
     "start_time": "2024-04-02T12:22:13.018827",
     "status": "completed"
    },
    "tags": []
   },
   "outputs": [],
   "source": [
    "# for special charcter\n",
    "def freqSpeicalChar(row):\n",
    "    specialChar = []\n",
    "    for char in row:\n",
    "        if not char.isalpha() and not char.isdigit():\n",
    "            specialChar.append(char)\n",
    "    return len(specialChar)/len(row)"
   ]
  },
  {
   "cell_type": "code",
   "execution_count": 30,
   "id": "4682431c",
   "metadata": {
    "execution": {
     "iopub.execute_input": "2024-04-02T12:22:13.075259Z",
     "iopub.status.busy": "2024-04-02T12:22:13.074804Z",
     "iopub.status.idle": "2024-04-02T12:22:13.255661Z",
     "shell.execute_reply": "2024-04-02T12:22:13.254662Z"
    },
    "papermill": {
     "duration": 0.199585,
     "end_time": "2024-04-02T12:22:13.258352",
     "exception": false,
     "start_time": "2024-04-02T12:22:13.058767",
     "status": "completed"
    },
    "tags": []
   },
   "outputs": [],
   "source": [
    "data['specialCharFreq'] = np.round(data['password'].apply(freqSpeicalChar),3)"
   ]
  },
  {
   "cell_type": "code",
   "execution_count": 31,
   "id": "f0a8e79e",
   "metadata": {
    "execution": {
     "iopub.execute_input": "2024-04-02T12:22:13.289451Z",
     "iopub.status.busy": "2024-04-02T12:22:13.288538Z",
     "iopub.status.idle": "2024-04-02T12:22:13.304113Z",
     "shell.execute_reply": "2024-04-02T12:22:13.302724Z"
    },
    "papermill": {
     "duration": 0.034039,
     "end_time": "2024-04-02T12:22:13.306940",
     "exception": false,
     "start_time": "2024-04-02T12:22:13.272901",
     "status": "completed"
    },
    "tags": []
   },
   "outputs": [
    {
     "data": {
      "text/html": [
       "<div>\n",
       "<style scoped>\n",
       "    .dataframe tbody tr th:only-of-type {\n",
       "        vertical-align: middle;\n",
       "    }\n",
       "\n",
       "    .dataframe tbody tr th {\n",
       "        vertical-align: top;\n",
       "    }\n",
       "\n",
       "    .dataframe thead th {\n",
       "        text-align: right;\n",
       "    }\n",
       "</style>\n",
       "<table border=\"1\" class=\"dataframe\">\n",
       "  <thead>\n",
       "    <tr style=\"text-align: right;\">\n",
       "      <th></th>\n",
       "      <th>password</th>\n",
       "      <th>strength</th>\n",
       "      <th>lowercaseFreq</th>\n",
       "      <th>uppercaseFreq</th>\n",
       "      <th>digiFreq</th>\n",
       "      <th>specialCharFreq</th>\n",
       "    </tr>\n",
       "  </thead>\n",
       "  <tbody>\n",
       "    <tr>\n",
       "      <th>0</th>\n",
       "      <td>zxe870819</td>\n",
       "      <td>1</td>\n",
       "      <td>0.333</td>\n",
       "      <td>0.0</td>\n",
       "      <td>0.667</td>\n",
       "      <td>0.000</td>\n",
       "    </tr>\n",
       "    <tr>\n",
       "      <th>1</th>\n",
       "      <td>xw46454nr23l</td>\n",
       "      <td>1</td>\n",
       "      <td>0.417</td>\n",
       "      <td>0.0</td>\n",
       "      <td>0.583</td>\n",
       "      <td>0.000</td>\n",
       "    </tr>\n",
       "    <tr>\n",
       "      <th>2</th>\n",
       "      <td>soporte13</td>\n",
       "      <td>1</td>\n",
       "      <td>0.778</td>\n",
       "      <td>0.0</td>\n",
       "      <td>0.222</td>\n",
       "      <td>0.000</td>\n",
       "    </tr>\n",
       "    <tr>\n",
       "      <th>3</th>\n",
       "      <td>accounts6000webhost.com</td>\n",
       "      <td>2</td>\n",
       "      <td>0.783</td>\n",
       "      <td>0.0</td>\n",
       "      <td>0.174</td>\n",
       "      <td>0.043</td>\n",
       "    </tr>\n",
       "    <tr>\n",
       "      <th>4</th>\n",
       "      <td>c443balg</td>\n",
       "      <td>1</td>\n",
       "      <td>0.625</td>\n",
       "      <td>0.0</td>\n",
       "      <td>0.375</td>\n",
       "      <td>0.000</td>\n",
       "    </tr>\n",
       "  </tbody>\n",
       "</table>\n",
       "</div>"
      ],
      "text/plain": [
       "                  password  strength  lowercaseFreq  uppercaseFreq  digiFreq  \\\n",
       "0                zxe870819         1          0.333            0.0     0.667   \n",
       "1             xw46454nr23l         1          0.417            0.0     0.583   \n",
       "2                soporte13         1          0.778            0.0     0.222   \n",
       "3  accounts6000webhost.com         2          0.783            0.0     0.174   \n",
       "4                 c443balg         1          0.625            0.0     0.375   \n",
       "\n",
       "   specialCharFreq  \n",
       "0            0.000  \n",
       "1            0.000  \n",
       "2            0.000  \n",
       "3            0.043  \n",
       "4            0.000  "
      ]
     },
     "execution_count": 31,
     "metadata": {},
     "output_type": "execute_result"
    }
   ],
   "source": [
    "data.head()"
   ]
  },
  {
   "cell_type": "code",
   "execution_count": null,
   "id": "873ee588",
   "metadata": {
    "papermill": {
     "duration": 0.014313,
     "end_time": "2024-04-02T12:22:13.336657",
     "exception": false,
     "start_time": "2024-04-02T12:22:13.322344",
     "status": "completed"
    },
    "tags": []
   },
   "outputs": [],
   "source": []
  }
 ],
 "metadata": {
  "kaggle": {
   "accelerator": "none",
   "dataSources": [
    {
     "datasetId": 4710490,
     "sourceId": 7999449,
     "sourceType": "datasetVersion"
    }
   ],
   "dockerImageVersionId": 30673,
   "isGpuEnabled": false,
   "isInternetEnabled": true,
   "language": "python",
   "sourceType": "notebook"
  },
  "kernelspec": {
   "display_name": "Python 3",
   "language": "python",
   "name": "python3"
  },
  "language_info": {
   "codemirror_mode": {
    "name": "ipython",
    "version": 3
   },
   "file_extension": ".py",
   "mimetype": "text/x-python",
   "name": "python",
   "nbconvert_exporter": "python",
   "pygments_lexer": "ipython3",
   "version": "3.10.13"
  },
  "papermill": {
   "default_parameters": {},
   "duration": 8.353795,
   "end_time": "2024-04-02T12:22:13.874811",
   "environment_variables": {},
   "exception": null,
   "input_path": "__notebook__.ipynb",
   "output_path": "__notebook__.ipynb",
   "parameters": {},
   "start_time": "2024-04-02T12:22:05.521016",
   "version": "2.5.0"
  }
 },
 "nbformat": 4,
 "nbformat_minor": 5
}
