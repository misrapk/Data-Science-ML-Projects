{
 "cells": [
  {
   "cell_type": "code",
   "execution_count": 1,
   "id": "74a963bf",
   "metadata": {
    "_cell_guid": "b1076dfc-b9ad-4769-8c92-a6c4dae69d19",
    "_uuid": "8f2839f25d086af736a60e9eeb907d3b93b6e0e5",
    "execution": {
     "iopub.execute_input": "2024-04-02T12:07:42.932416Z",
     "iopub.status.busy": "2024-04-02T12:07:42.931894Z",
     "iopub.status.idle": "2024-04-02T12:07:44.021828Z",
     "shell.execute_reply": "2024-04-02T12:07:44.020639Z"
    },
    "papermill": {
     "duration": 1.104804,
     "end_time": "2024-04-02T12:07:44.025022",
     "exception": false,
     "start_time": "2024-04-02T12:07:42.920218",
     "status": "completed"
    },
    "tags": []
   },
   "outputs": [
    {
     "name": "stdout",
     "output_type": "stream",
     "text": [
      "/kaggle/input/passworddataset/password_data.sqlite\n"
     ]
    }
   ],
   "source": [
    "# This Python 3 environment comes with many helpful analytics libraries installed\n",
    "# It is defined by the kaggle/python Docker image: https://github.com/kaggle/docker-python\n",
    "# For example, here's several helpful packages to load\n",
    "\n",
    "import numpy as np # linear algebra\n",
    "import pandas as pd # data processing, CSV file I/O (e.g. pd.read_csv)\n",
    "\n",
    "# Input data files are available in the read-only \"../input/\" directory\n",
    "# For example, running this (by clicking run or pressing Shift+Enter) will list all files under the input directory\n",
    "\n",
    "import os\n",
    "for dirname, _, filenames in os.walk('/kaggle/input'):\n",
    "    for filename in filenames:\n",
    "        print(os.path.join(dirname, filename))\n",
    "\n",
    "# You can write up to 20GB to the current directory (/kaggle/working/) that gets preserved as output when you create a version using \"Save & Run All\" \n",
    "# You can also write temporary files to /kaggle/temp/, but they won't be saved outside of the current session"
   ]
  },
  {
   "cell_type": "code",
   "execution_count": 2,
   "id": "8c7ca551",
   "metadata": {
    "execution": {
     "iopub.execute_input": "2024-04-02T12:07:44.046291Z",
     "iopub.status.busy": "2024-04-02T12:07:44.045589Z",
     "iopub.status.idle": "2024-04-02T12:07:44.051182Z",
     "shell.execute_reply": "2024-04-02T12:07:44.049952Z"
    },
    "papermill": {
     "duration": 0.019741,
     "end_time": "2024-04-02T12:07:44.053905",
     "exception": false,
     "start_time": "2024-04-02T12:07:44.034164",
     "status": "completed"
    },
    "tags": []
   },
   "outputs": [],
   "source": [
    "import sqlite3 "
   ]
  },
  {
   "cell_type": "code",
   "execution_count": 3,
   "id": "2014c0df",
   "metadata": {
    "execution": {
     "iopub.execute_input": "2024-04-02T12:07:44.073977Z",
     "iopub.status.busy": "2024-04-02T12:07:44.073002Z",
     "iopub.status.idle": "2024-04-02T12:07:44.082111Z",
     "shell.execute_reply": "2024-04-02T12:07:44.080939Z"
    },
    "papermill": {
     "duration": 0.022455,
     "end_time": "2024-04-02T12:07:44.085103",
     "exception": false,
     "start_time": "2024-04-02T12:07:44.062648",
     "status": "completed"
    },
    "tags": []
   },
   "outputs": [],
   "source": [
    "#sqlite connection\n",
    "con = sqlite3.connect(r\"/kaggle/input/passworddataset/password_data.sqlite\")\n"
   ]
  },
  {
   "cell_type": "code",
   "execution_count": 4,
   "id": "52e42928",
   "metadata": {
    "execution": {
     "iopub.execute_input": "2024-04-02T12:07:44.105017Z",
     "iopub.status.busy": "2024-04-02T12:07:44.104529Z",
     "iopub.status.idle": "2024-04-02T12:07:44.482222Z",
     "shell.execute_reply": "2024-04-02T12:07:44.480776Z"
    },
    "papermill": {
     "duration": 0.391459,
     "end_time": "2024-04-02T12:07:44.485500",
     "exception": false,
     "start_time": "2024-04-02T12:07:44.094041",
     "status": "completed"
    },
    "tags": []
   },
   "outputs": [],
   "source": [
    "data = pd.read_sql_query(\"SELECT * from Users\",con)"
   ]
  },
  {
   "cell_type": "code",
   "execution_count": 5,
   "id": "1ad3663e",
   "metadata": {
    "execution": {
     "iopub.execute_input": "2024-04-02T12:07:44.507135Z",
     "iopub.status.busy": "2024-04-02T12:07:44.506237Z",
     "iopub.status.idle": "2024-04-02T12:07:44.516132Z",
     "shell.execute_reply": "2024-04-02T12:07:44.514834Z"
    },
    "papermill": {
     "duration": 0.024074,
     "end_time": "2024-04-02T12:07:44.518959",
     "exception": false,
     "start_time": "2024-04-02T12:07:44.494885",
     "status": "completed"
    },
    "tags": []
   },
   "outputs": [
    {
     "data": {
      "text/plain": [
       "(100000, 3)"
      ]
     },
     "execution_count": 5,
     "metadata": {},
     "output_type": "execute_result"
    }
   ],
   "source": [
    "data.shape"
   ]
  },
  {
   "cell_type": "code",
   "execution_count": 6,
   "id": "1c052f0c",
   "metadata": {
    "execution": {
     "iopub.execute_input": "2024-04-02T12:07:44.538765Z",
     "iopub.status.busy": "2024-04-02T12:07:44.538266Z",
     "iopub.status.idle": "2024-04-02T12:07:44.555131Z",
     "shell.execute_reply": "2024-04-02T12:07:44.553842Z"
    },
    "papermill": {
     "duration": 0.029935,
     "end_time": "2024-04-02T12:07:44.557916",
     "exception": false,
     "start_time": "2024-04-02T12:07:44.527981",
     "status": "completed"
    },
    "tags": []
   },
   "outputs": [
    {
     "data": {
      "text/html": [
       "<div>\n",
       "<style scoped>\n",
       "    .dataframe tbody tr th:only-of-type {\n",
       "        vertical-align: middle;\n",
       "    }\n",
       "\n",
       "    .dataframe tbody tr th {\n",
       "        vertical-align: top;\n",
       "    }\n",
       "\n",
       "    .dataframe thead th {\n",
       "        text-align: right;\n",
       "    }\n",
       "</style>\n",
       "<table border=\"1\" class=\"dataframe\">\n",
       "  <thead>\n",
       "    <tr style=\"text-align: right;\">\n",
       "      <th></th>\n",
       "      <th>index</th>\n",
       "      <th>password</th>\n",
       "      <th>strength</th>\n",
       "    </tr>\n",
       "  </thead>\n",
       "  <tbody>\n",
       "    <tr>\n",
       "      <th>0</th>\n",
       "      <td>0</td>\n",
       "      <td>zxe870819</td>\n",
       "      <td>1</td>\n",
       "    </tr>\n",
       "    <tr>\n",
       "      <th>1</th>\n",
       "      <td>1</td>\n",
       "      <td>xw46454nr23l</td>\n",
       "      <td>1</td>\n",
       "    </tr>\n",
       "    <tr>\n",
       "      <th>2</th>\n",
       "      <td>2</td>\n",
       "      <td>soporte13</td>\n",
       "      <td>1</td>\n",
       "    </tr>\n",
       "    <tr>\n",
       "      <th>3</th>\n",
       "      <td>3</td>\n",
       "      <td>accounts6000webhost.com</td>\n",
       "      <td>2</td>\n",
       "    </tr>\n",
       "    <tr>\n",
       "      <th>4</th>\n",
       "      <td>4</td>\n",
       "      <td>c443balg</td>\n",
       "      <td>1</td>\n",
       "    </tr>\n",
       "  </tbody>\n",
       "</table>\n",
       "</div>"
      ],
      "text/plain": [
       "   index                 password  strength\n",
       "0      0                zxe870819         1\n",
       "1      1             xw46454nr23l         1\n",
       "2      2                soporte13         1\n",
       "3      3  accounts6000webhost.com         2\n",
       "4      4                 c443balg         1"
      ]
     },
     "execution_count": 6,
     "metadata": {},
     "output_type": "execute_result"
    }
   ],
   "source": [
    "data.head()"
   ]
  },
  {
   "cell_type": "code",
   "execution_count": 7,
   "id": "3cfe67dd",
   "metadata": {
    "execution": {
     "iopub.execute_input": "2024-04-02T12:07:44.579915Z",
     "iopub.status.busy": "2024-04-02T12:07:44.578979Z",
     "iopub.status.idle": "2024-04-02T12:07:44.587357Z",
     "shell.execute_reply": "2024-04-02T12:07:44.586091Z"
    },
    "papermill": {
     "duration": 0.022572,
     "end_time": "2024-04-02T12:07:44.590260",
     "exception": false,
     "start_time": "2024-04-02T12:07:44.567688",
     "status": "completed"
    },
    "tags": []
   },
   "outputs": [
    {
     "data": {
      "text/plain": [
       "Index(['index', 'password', 'strength'], dtype='object')"
      ]
     },
     "execution_count": 7,
     "metadata": {},
     "output_type": "execute_result"
    }
   ],
   "source": [
    "#check for columns andremove unnecessary columns\n",
    "data.columns"
   ]
  },
  {
   "cell_type": "code",
   "execution_count": 8,
   "id": "2a3089c7",
   "metadata": {
    "execution": {
     "iopub.execute_input": "2024-04-02T12:07:44.611066Z",
     "iopub.status.busy": "2024-04-02T12:07:44.610569Z",
     "iopub.status.idle": "2024-04-02T12:07:44.629398Z",
     "shell.execute_reply": "2024-04-02T12:07:44.628237Z"
    },
    "papermill": {
     "duration": 0.032836,
     "end_time": "2024-04-02T12:07:44.632368",
     "exception": false,
     "start_time": "2024-04-02T12:07:44.599532",
     "status": "completed"
    },
    "tags": []
   },
   "outputs": [],
   "source": [
    "#we can drop 'index'\n",
    "data.drop(['index'], axis=1, inplace = True)"
   ]
  },
  {
   "cell_type": "code",
   "execution_count": 9,
   "id": "7f918f7f",
   "metadata": {
    "execution": {
     "iopub.execute_input": "2024-04-02T12:07:44.653830Z",
     "iopub.status.busy": "2024-04-02T12:07:44.652895Z",
     "iopub.status.idle": "2024-04-02T12:07:44.664812Z",
     "shell.execute_reply": "2024-04-02T12:07:44.663407Z"
    },
    "papermill": {
     "duration": 0.025592,
     "end_time": "2024-04-02T12:07:44.667418",
     "exception": false,
     "start_time": "2024-04-02T12:07:44.641826",
     "status": "completed"
    },
    "tags": []
   },
   "outputs": [
    {
     "data": {
      "text/html": [
       "<div>\n",
       "<style scoped>\n",
       "    .dataframe tbody tr th:only-of-type {\n",
       "        vertical-align: middle;\n",
       "    }\n",
       "\n",
       "    .dataframe tbody tr th {\n",
       "        vertical-align: top;\n",
       "    }\n",
       "\n",
       "    .dataframe thead th {\n",
       "        text-align: right;\n",
       "    }\n",
       "</style>\n",
       "<table border=\"1\" class=\"dataframe\">\n",
       "  <thead>\n",
       "    <tr style=\"text-align: right;\">\n",
       "      <th></th>\n",
       "      <th>password</th>\n",
       "      <th>strength</th>\n",
       "    </tr>\n",
       "  </thead>\n",
       "  <tbody>\n",
       "    <tr>\n",
       "      <th>0</th>\n",
       "      <td>zxe870819</td>\n",
       "      <td>1</td>\n",
       "    </tr>\n",
       "    <tr>\n",
       "      <th>1</th>\n",
       "      <td>xw46454nr23l</td>\n",
       "      <td>1</td>\n",
       "    </tr>\n",
       "    <tr>\n",
       "      <th>2</th>\n",
       "      <td>soporte13</td>\n",
       "      <td>1</td>\n",
       "    </tr>\n",
       "    <tr>\n",
       "      <th>3</th>\n",
       "      <td>accounts6000webhost.com</td>\n",
       "      <td>2</td>\n",
       "    </tr>\n",
       "    <tr>\n",
       "      <th>4</th>\n",
       "      <td>c443balg</td>\n",
       "      <td>1</td>\n",
       "    </tr>\n",
       "  </tbody>\n",
       "</table>\n",
       "</div>"
      ],
      "text/plain": [
       "                  password  strength\n",
       "0                zxe870819         1\n",
       "1             xw46454nr23l         1\n",
       "2                soporte13         1\n",
       "3  accounts6000webhost.com         2\n",
       "4                 c443balg         1"
      ]
     },
     "execution_count": 9,
     "metadata": {},
     "output_type": "execute_result"
    }
   ],
   "source": [
    "data.head()"
   ]
  },
  {
   "cell_type": "code",
   "execution_count": 10,
   "id": "6a01d0d4",
   "metadata": {
    "execution": {
     "iopub.execute_input": "2024-04-02T12:07:44.690736Z",
     "iopub.status.busy": "2024-04-02T12:07:44.689368Z",
     "iopub.status.idle": "2024-04-02T12:07:44.747425Z",
     "shell.execute_reply": "2024-04-02T12:07:44.746234Z"
    },
    "papermill": {
     "duration": 0.072897,
     "end_time": "2024-04-02T12:07:44.750163",
     "exception": false,
     "start_time": "2024-04-02T12:07:44.677266",
     "status": "completed"
    },
    "tags": []
   },
   "outputs": [
    {
     "data": {
      "text/plain": [
       "0"
      ]
     },
     "execution_count": 10,
     "metadata": {},
     "output_type": "execute_result"
    }
   ],
   "source": [
    "#check for duplicates\n",
    "data.duplicated().sum()   #no duplicate"
   ]
  },
  {
   "cell_type": "code",
   "execution_count": 11,
   "id": "d155191e",
   "metadata": {
    "execution": {
     "iopub.execute_input": "2024-04-02T12:07:44.773764Z",
     "iopub.status.busy": "2024-04-02T12:07:44.772876Z",
     "iopub.status.idle": "2024-04-02T12:07:44.797040Z",
     "shell.execute_reply": "2024-04-02T12:07:44.795649Z"
    },
    "papermill": {
     "duration": 0.04011,
     "end_time": "2024-04-02T12:07:44.800179",
     "exception": false,
     "start_time": "2024-04-02T12:07:44.760069",
     "status": "completed"
    },
    "tags": []
   },
   "outputs": [
    {
     "data": {
      "text/plain": [
       "0"
      ]
     },
     "execution_count": 11,
     "metadata": {},
     "output_type": "execute_result"
    }
   ],
   "source": [
    "#check for null\n",
    "data.isnull().any().sum()  #no null"
   ]
  },
  {
   "cell_type": "code",
   "execution_count": 12,
   "id": "ed2ebcc9",
   "metadata": {
    "execution": {
     "iopub.execute_input": "2024-04-02T12:07:44.824368Z",
     "iopub.status.busy": "2024-04-02T12:07:44.823873Z",
     "iopub.status.idle": "2024-04-02T12:07:44.833286Z",
     "shell.execute_reply": "2024-04-02T12:07:44.831930Z"
    },
    "papermill": {
     "duration": 0.023813,
     "end_time": "2024-04-02T12:07:44.835820",
     "exception": false,
     "start_time": "2024-04-02T12:07:44.812007",
     "status": "completed"
    },
    "tags": []
   },
   "outputs": [
    {
     "data": {
      "text/plain": [
       "password    object\n",
       "strength     int64\n",
       "dtype: object"
      ]
     },
     "execution_count": 12,
     "metadata": {},
     "output_type": "execute_result"
    }
   ],
   "source": [
    "#datatype\n",
    "data.dtypes"
   ]
  },
  {
   "cell_type": "code",
   "execution_count": 13,
   "id": "cbd1e1cd",
   "metadata": {
    "execution": {
     "iopub.execute_input": "2024-04-02T12:07:44.859185Z",
     "iopub.status.busy": "2024-04-02T12:07:44.858159Z",
     "iopub.status.idle": "2024-04-02T12:07:44.870899Z",
     "shell.execute_reply": "2024-04-02T12:07:44.869530Z"
    },
    "papermill": {
     "duration": 0.027568,
     "end_time": "2024-04-02T12:07:44.873808",
     "exception": false,
     "start_time": "2024-04-02T12:07:44.846240",
     "status": "completed"
    },
    "tags": []
   },
   "outputs": [
    {
     "data": {
      "text/plain": [
       "array([1, 2, 0])"
      ]
     },
     "execution_count": 13,
     "metadata": {},
     "output_type": "execute_result"
    }
   ],
   "source": [
    "data['strength'].unique()"
   ]
  },
  {
   "cell_type": "markdown",
   "id": "afaf6bb5",
   "metadata": {
    "papermill": {
     "duration": 0.009806,
     "end_time": "2024-04-02T12:07:44.894115",
     "exception": false,
     "start_time": "2024-04-02T12:07:44.884309",
     "status": "completed"
    },
    "tags": []
   },
   "source": [
    "# Semantic Analysis"
   ]
  },
  {
   "cell_type": "code",
   "execution_count": 14,
   "id": "8734db72",
   "metadata": {
    "execution": {
     "iopub.execute_input": "2024-04-02T12:07:44.916491Z",
     "iopub.status.busy": "2024-04-02T12:07:44.916051Z",
     "iopub.status.idle": "2024-04-02T12:07:44.924244Z",
     "shell.execute_reply": "2024-04-02T12:07:44.923035Z"
    },
    "papermill": {
     "duration": 0.022516,
     "end_time": "2024-04-02T12:07:44.926853",
     "exception": false,
     "start_time": "2024-04-02T12:07:44.904337",
     "status": "completed"
    },
    "tags": []
   },
   "outputs": [
    {
     "data": {
      "text/plain": [
       "str"
      ]
     },
     "execution_count": 14,
     "metadata": {},
     "output_type": "execute_result"
    }
   ],
   "source": [
    "type(data['password'][0])"
   ]
  },
  {
   "cell_type": "code",
   "execution_count": 15,
   "id": "714e0ed5",
   "metadata": {
    "execution": {
     "iopub.execute_input": "2024-04-02T12:07:44.950815Z",
     "iopub.status.busy": "2024-04-02T12:07:44.949443Z",
     "iopub.status.idle": "2024-04-02T12:07:44.992666Z",
     "shell.execute_reply": "2024-04-02T12:07:44.991333Z"
    },
    "papermill": {
     "duration": 0.058337,
     "end_time": "2024-04-02T12:07:44.995772",
     "exception": false,
     "start_time": "2024-04-02T12:07:44.937435",
     "status": "completed"
    },
    "tags": []
   },
   "outputs": [
    {
     "data": {
      "text/plain": [
       "(26, 2)"
      ]
     },
     "execution_count": 15,
     "metadata": {},
     "output_type": "execute_result"
    }
   ],
   "source": [
    "#Passwords holds only numeric charracters??\n",
    "data[data['password'].str.isnumeric()].shape"
   ]
  },
  {
   "cell_type": "code",
   "execution_count": 16,
   "id": "bbed2d34",
   "metadata": {
    "execution": {
     "iopub.execute_input": "2024-04-02T12:07:45.019062Z",
     "iopub.status.busy": "2024-04-02T12:07:45.018601Z",
     "iopub.status.idle": "2024-04-02T12:07:45.059308Z",
     "shell.execute_reply": "2024-04-02T12:07:45.058063Z"
    },
    "papermill": {
     "duration": 0.05599,
     "end_time": "2024-04-02T12:07:45.062416",
     "exception": false,
     "start_time": "2024-04-02T12:07:45.006426",
     "status": "completed"
    },
    "tags": []
   },
   "outputs": [
    {
     "data": {
      "text/plain": [
       "(50, 2)"
      ]
     },
     "execution_count": 16,
     "metadata": {},
     "output_type": "execute_result"
    }
   ],
   "source": [
    "data[data['password'].str.isalpha()].shape #alpha characters password"
   ]
  },
  {
   "cell_type": "code",
   "execution_count": 17,
   "id": "a53adcb6",
   "metadata": {
    "execution": {
     "iopub.execute_input": "2024-04-02T12:07:45.086217Z",
     "iopub.status.busy": "2024-04-02T12:07:45.085756Z",
     "iopub.status.idle": "2024-04-02T12:07:45.138061Z",
     "shell.execute_reply": "2024-04-02T12:07:45.136645Z"
    },
    "papermill": {
     "duration": 0.067948,
     "end_time": "2024-04-02T12:07:45.141108",
     "exception": false,
     "start_time": "2024-04-02T12:07:45.073160",
     "status": "completed"
    },
    "tags": []
   },
   "outputs": [
    {
     "data": {
      "text/plain": [
       "(97203, 2)"
      ]
     },
     "execution_count": 17,
     "metadata": {},
     "output_type": "execute_result"
    }
   ],
   "source": [
    "#password having alpha numeric charcters\n",
    "data[data['password'].str.isalnum()].shape "
   ]
  },
  {
   "cell_type": "code",
   "execution_count": 18,
   "id": "396371f7",
   "metadata": {
    "execution": {
     "iopub.execute_input": "2024-04-02T12:07:45.165749Z",
     "iopub.status.busy": "2024-04-02T12:07:45.165228Z",
     "iopub.status.idle": "2024-04-02T12:07:45.204739Z",
     "shell.execute_reply": "2024-04-02T12:07:45.203328Z"
    },
    "papermill": {
     "duration": 0.055079,
     "end_time": "2024-04-02T12:07:45.207669",
     "exception": false,
     "start_time": "2024-04-02T12:07:45.152590",
     "status": "completed"
    },
    "tags": []
   },
   "outputs": [
    {
     "name": "stdout",
     "output_type": "stream",
     "text": [
      "(1506, 2)\n"
     ]
    }
   ],
   "source": [
    "#password having uppercase character??\n",
    "print(data[data['password'].str.isupper()].shape)"
   ]
  },
  {
   "cell_type": "code",
   "execution_count": 19,
   "id": "cacd7236",
   "metadata": {
    "execution": {
     "iopub.execute_input": "2024-04-02T12:07:45.231901Z",
     "iopub.status.busy": "2024-04-02T12:07:45.231411Z",
     "iopub.status.idle": "2024-04-02T12:07:45.236745Z",
     "shell.execute_reply": "2024-04-02T12:07:45.235750Z"
    },
    "papermill": {
     "duration": 0.019979,
     "end_time": "2024-04-02T12:07:45.238996",
     "exception": false,
     "start_time": "2024-04-02T12:07:45.219017",
     "status": "completed"
    },
    "tags": []
   },
   "outputs": [],
   "source": [
    "#passwords having some speical chaparcter\n",
    "import string"
   ]
  },
  {
   "cell_type": "code",
   "execution_count": 20,
   "id": "750e1b4d",
   "metadata": {
    "execution": {
     "iopub.execute_input": "2024-04-02T12:07:45.263081Z",
     "iopub.status.busy": "2024-04-02T12:07:45.262597Z",
     "iopub.status.idle": "2024-04-02T12:07:45.270300Z",
     "shell.execute_reply": "2024-04-02T12:07:45.269080Z"
    },
    "papermill": {
     "duration": 0.022994,
     "end_time": "2024-04-02T12:07:45.272902",
     "exception": false,
     "start_time": "2024-04-02T12:07:45.249908",
     "status": "completed"
    },
    "tags": []
   },
   "outputs": [
    {
     "data": {
      "text/plain": [
       "'!\"#$%&\\'()*+,-./:;<=>?@[\\\\]^_`{|}~'"
      ]
     },
     "execution_count": 20,
     "metadata": {},
     "output_type": "execute_result"
    }
   ],
   "source": [
    "string.punctuation  #to get the special charcters"
   ]
  },
  {
   "cell_type": "code",
   "execution_count": 21,
   "id": "c64d9e29",
   "metadata": {
    "execution": {
     "iopub.execute_input": "2024-04-02T12:07:45.297717Z",
     "iopub.status.busy": "2024-04-02T12:07:45.297197Z",
     "iopub.status.idle": "2024-04-02T12:07:45.304096Z",
     "shell.execute_reply": "2024-04-02T12:07:45.302835Z"
    },
    "papermill": {
     "duration": 0.022597,
     "end_time": "2024-04-02T12:07:45.306972",
     "exception": false,
     "start_time": "2024-04-02T12:07:45.284375",
     "status": "completed"
    },
    "tags": []
   },
   "outputs": [],
   "source": [
    "def findSpecialCharacter(row):\n",
    "    \"\"\"define a function\n",
    "    if any row has any of speical character\n",
    "    then reutrn 1 else 0\n",
    "    Input: Row \"\"\"\n",
    "    for char in row:\n",
    "        if char in string.punctuation:\n",
    "            return 1\n",
    "        else:\n",
    "            pass"
   ]
  },
  {
   "cell_type": "code",
   "execution_count": 22,
   "id": "1cf6e469",
   "metadata": {
    "execution": {
     "iopub.execute_input": "2024-04-02T12:07:45.332509Z",
     "iopub.status.busy": "2024-04-02T12:07:45.331479Z",
     "iopub.status.idle": "2024-04-02T12:07:45.491253Z",
     "shell.execute_reply": "2024-04-02T12:07:45.489821Z"
    },
    "papermill": {
     "duration": 0.175338,
     "end_time": "2024-04-02T12:07:45.494012",
     "exception": false,
     "start_time": "2024-04-02T12:07:45.318674",
     "status": "completed"
    },
    "tags": []
   },
   "outputs": [
    {
     "data": {
      "text/plain": [
       "(2663, 2)"
      ]
     },
     "execution_count": 22,
     "metadata": {},
     "output_type": "execute_result"
    }
   ],
   "source": [
    "data[data['password'].apply(findSpecialCharacter)==1].shape"
   ]
  },
  {
   "cell_type": "markdown",
   "id": "e1c05d38",
   "metadata": {
    "papermill": {
     "duration": 0.011587,
     "end_time": "2024-04-02T12:07:45.517367",
     "exception": false,
     "start_time": "2024-04-02T12:07:45.505780",
     "status": "completed"
    },
    "tags": []
   },
   "source": [
    "Therefore the summary is: \n",
    "1. Only Numeric password: 26\n",
    "2. Only Alpha passowrd: 50\n",
    "3. Alpha Numeric: 97203\n",
    "4. Having only uppercase: 1506\n",
    "5. Having Special Characters: 2663"
   ]
  },
  {
   "cell_type": "code",
   "execution_count": null,
   "id": "6a9190df",
   "metadata": {
    "papermill": {
     "duration": 0.011538,
     "end_time": "2024-04-02T12:07:45.540374",
     "exception": false,
     "start_time": "2024-04-02T12:07:45.528836",
     "status": "completed"
    },
    "tags": []
   },
   "outputs": [],
   "source": []
  }
 ],
 "metadata": {
  "kaggle": {
   "accelerator": "none",
   "dataSources": [
    {
     "datasetId": 4710490,
     "sourceId": 7999449,
     "sourceType": "datasetVersion"
    }
   ],
   "dockerImageVersionId": 30673,
   "isGpuEnabled": false,
   "isInternetEnabled": true,
   "language": "python",
   "sourceType": "notebook"
  },
  "kernelspec": {
   "display_name": "Python 3",
   "language": "python",
   "name": "python3"
  },
  "language_info": {
   "codemirror_mode": {
    "name": "ipython",
    "version": 3
   },
   "file_extension": ".py",
   "mimetype": "text/x-python",
   "name": "python",
   "nbconvert_exporter": "python",
   "pygments_lexer": "ipython3",
   "version": "3.10.13"
  },
  "papermill": {
   "default_parameters": {},
   "duration": 6.760121,
   "end_time": "2024-04-02T12:07:46.276908",
   "environment_variables": {},
   "exception": null,
   "input_path": "__notebook__.ipynb",
   "output_path": "__notebook__.ipynb",
   "parameters": {},
   "start_time": "2024-04-02T12:07:39.516787",
   "version": "2.5.0"
  }
 },
 "nbformat": 4,
 "nbformat_minor": 5
}
